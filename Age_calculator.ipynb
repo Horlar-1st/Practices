{
  "nbformat": 4,
  "nbformat_minor": 0,
  "metadata": {
    "colab": {
      "provenance": []
    },
    "kernelspec": {
      "name": "python3",
      "display_name": "Python 3"
    },
    "language_info": {
      "name": "python"
    }
  },
  "cells": [
    {
      "cell_type": "code",
      "execution_count": 1,
      "metadata": {
        "id": "_-LZbXvQfvId"
      },
      "outputs": [],
      "source": [
        "import calendar\n",
        "import datetime\n",
        "\n",
        "def calculate_age(birth_day, birth_month, birth_year):\n",
        "    \"\"\"\n",
        "    Calculate the age in years, months, and days.\n",
        "\n",
        "    Args:\n",
        "        birth_day (int): The day of birth (1-31).\n",
        "        birth_month (int): The month of birth (1-12).\n",
        "        birth_year (int): The year of birth.\n",
        "\n",
        "    Returns:\n",
        "        str: A string representing the age in years, months, and days.\n",
        "    \"\"\"\n",
        "\n",
        "    try:\n",
        "        today = datetime.date.today()\n",
        "        birth_date = datetime.date(birth_year, birth_month, birth_day)\n",
        "\n",
        "        if birth_date > today:\n",
        "            return \"You are not born yet.\"\n",
        "\n",
        "        age_years = today.year - birth_date.year\n",
        "        age_months = today.month - birth_date.month\n",
        "        age_days = today.day - birth_date.day\n",
        "\n",
        "        if age_days < 0:\n",
        "            age_months -= 1\n",
        "            if age_months < 0:\n",
        "                age_years -= 1\n",
        "                age_months += 12\n",
        "            age_days += calendar.monthrange(today.year, today.month - 1 if today.month > 1 else 12)[1]\n",
        "\n",
        "        result = f\"You are {age_years} year(s), {age_months} month(s), and {age_days} day(s) old.\"\n",
        "        return result\n",
        "\n",
        "    except ValueError:\n",
        "        return \"Invalid birth month or year.\"\n",
        "    except Exception as e:\n",
        "        return f\"An unexpected error occurred: {str(e)}\"\n"
      ]
    },
    {
      "cell_type": "code",
      "source": [
        "print(calculate_age(30, 6, 1990))"
      ],
      "metadata": {
        "colab": {
          "base_uri": "https://localhost:8080/"
        },
        "id": "gg5gxT-if2AZ",
        "outputId": "459fdeff-39b3-494c-fd36-6b3f18f71d02"
      },
      "execution_count": 3,
      "outputs": [
        {
          "output_type": "stream",
          "name": "stdout",
          "text": [
            "You are 34 year(s), 6 month(s), and 2 day(s) old.\n"
          ]
        }
      ]
    },
    {
      "cell_type": "code",
      "source": [],
      "metadata": {
        "id": "R2m25azFf7Fa"
      },
      "execution_count": null,
      "outputs": []
    }
  ]
}