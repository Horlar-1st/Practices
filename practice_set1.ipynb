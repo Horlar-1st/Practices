{
 "cells": [
  {
   "cell_type": "markdown",
   "metadata": {},
   "source": [
    "Basic Python Syntax and Operations"
   ]
  },
  {
   "cell_type": "markdown",
   "metadata": {},
   "source": [
    "Level 1"
   ]
  },
  {
   "cell_type": "markdown",
   "metadata": {},
   "source": [
    "Write a program to add two numbers entered by the user"
   ]
  },
  {
   "cell_type": "code",
   "execution_count": 1,
   "metadata": {},
   "outputs": [
    {
     "data": {
      "text/plain": [
       "567"
      ]
     },
     "execution_count": 1,
     "metadata": {},
     "output_type": "execute_result"
    }
   ],
   "source": [
    "def add(num1,num2):\n",
    "    return num1+num2\n",
    "\n",
    "#example\n",
    "add(234,333)"
   ]
  },
  {
   "cell_type": "markdown",
   "metadata": {},
   "source": [
    "Calculate the sum of all integers from 1 to a user-specified number."
   ]
  },
  {
   "cell_type": "code",
   "execution_count": 2,
   "metadata": {},
   "outputs": [
    {
     "data": {
      "text/plain": [
       "15"
      ]
     },
     "execution_count": 2,
     "metadata": {},
     "output_type": "execute_result"
    }
   ],
   "source": [
    "def sumAll(num):\n",
    "    lst = []\n",
    "    for i in range(1,num+1):\n",
    "        lst.append(i)\n",
    "    return sum(lst)\n",
    "               \n",
    "#example\n",
    "sumAll(5)"
   ]
  },
  {
   "cell_type": "code",
   "execution_count": 3,
   "metadata": {},
   "outputs": [
    {
     "data": {
      "text/plain": [
       "15"
      ]
     },
     "execution_count": 3,
     "metadata": {},
     "output_type": "execute_result"
    }
   ],
   "source": [
    "def sumAll2(num):\n",
    "    return num*(num + 1)/2\n",
    "\n",
    "#example\n",
    "sumAll(5)"
   ]
  },
  {
   "cell_type": "code",
   "execution_count": 4,
   "metadata": {},
   "outputs": [
    {
     "data": {
      "text/plain": [
       "1275"
      ]
     },
     "execution_count": 4,
     "metadata": {},
     "output_type": "execute_result"
    }
   ],
   "source": [
    "def sum_all(num):\n",
    "    return sum(range(num+1))\n",
    "\n",
    "# Example\n",
    "sum_all(50)"
   ]
  },
  {
   "cell_type": "markdown",
   "metadata": {},
   "source": [
    "Find the area of a circle given the radius (user input)."
   ]
  },
  {
   "cell_type": "code",
   "execution_count": 5,
   "metadata": {},
   "outputs": [
    {
     "data": {
      "text/plain": [
       "153.93804002589985"
      ]
     },
     "execution_count": 5,
     "metadata": {},
     "output_type": "execute_result"
    }
   ],
   "source": [
    "from math import pi\n",
    "def area_circle(rad):\n",
    "    return pi*rad**2\n",
    "\n",
    "#example\n",
    "area_circle(7)"
   ]
  },
  {
   "cell_type": "markdown",
   "metadata": {},
   "source": [
    "Print all even numbers between 1 and 100."
   ]
  },
  {
   "cell_type": "code",
   "execution_count": 6,
   "metadata": {},
   "outputs": [
    {
     "name": "stdout",
     "output_type": "stream",
     "text": [
      "[2, 4, 6, 8, 10, 12, 14, 16, 18, 20, 22, 24, 26, 28, 30, 32, 34, 36, 38, 40, 42, 44, 46, 48, 50, 52, 54, 56, 58, 60, 62, 64, 66, 68, 70, 72, 74, 76, 78, 80, 82, 84, 86, 88, 90, 92, 94, 96, 98]\n"
     ]
    }
   ],
   "source": [
    "even=[]\n",
    "for el in range(1,100):\n",
    "    if el%2==0:\n",
    "        even.append(el)\n",
    "print(even)"
   ]
  },
  {
   "cell_type": "code",
   "execution_count": 7,
   "metadata": {},
   "outputs": [
    {
     "name": "stdout",
     "output_type": "stream",
     "text": [
      "[0, 2, 4, 6, 8, 10, 12, 14, 16, 18, 20, 22, 24, 26, 28, 30, 32, 34, 36, 38, 40, 42, 44, 46, 48, 50, 52, 54, 56, 58, 60, 62, 64, 66, 68, 70, 72, 74, 76, 78, 80, 82, 84, 86, 88, 90, 92, 94, 96, 98]\n"
     ]
    }
   ],
   "source": [
    "even_100 = [i for i in range(0,100,2)]\n",
    "print(even_100)"
   ]
  },
  {
   "cell_type": "markdown",
   "metadata": {},
   "source": [
    "Given two numbers, return their maximum."
   ]
  },
  {
   "cell_type": "code",
   "execution_count": 8,
   "metadata": {},
   "outputs": [
    {
     "data": {
      "text/plain": [
       "345"
      ]
     },
     "execution_count": 8,
     "metadata": {},
     "output_type": "execute_result"
    }
   ],
   "source": [
    "def MAX(num1, num2):\n",
    "    if num1 > num2:\n",
    "        return num1\n",
    "    else:\n",
    "        return num2\n",
    "\n",
    "#example\n",
    "MAX(345,334)"
   ]
  },
  {
   "cell_type": "markdown",
   "metadata": {},
   "source": [
    "Level 2"
   ]
  },
  {
   "cell_type": "markdown",
   "metadata": {},
   "source": [
    "Write a function to check if a given year is a leap year."
   ]
  },
  {
   "cell_type": "code",
   "execution_count": 9,
   "metadata": {},
   "outputs": [
    {
     "data": {
      "text/plain": [
       "'Leap year'"
      ]
     },
     "execution_count": 9,
     "metadata": {},
     "output_type": "execute_result"
    }
   ],
   "source": [
    "def leap_year(year):\n",
    "    if year%100 == 0:\n",
    "        if year%400 == 0:\n",
    "            return 'Leap year'\n",
    "    else:\n",
    "        if year%4 ==0:\n",
    "            return 'Leap year'\n",
    "    return 'Not Leap year'\n",
    "\n",
    "# Example\n",
    "leap_year(2024)"
   ]
  },
  {
   "cell_type": "code",
   "execution_count": 10,
   "metadata": {},
   "outputs": [
    {
     "data": {
      "text/plain": [
       "True"
      ]
     },
     "execution_count": 10,
     "metadata": {},
     "output_type": "execute_result"
    }
   ],
   "source": [
    "def isLeap_year(year):\n",
    "    if year%100 == 0:\n",
    "        return year%400 == 0\n",
    "    else:\n",
    "        return year%4 == 0\n",
    "\n",
    "# Example\n",
    "isLeap_year(2000)"
   ]
  },
  {
   "cell_type": "code",
   "execution_count": 11,
   "metadata": {},
   "outputs": [
    {
     "data": {
      "text/plain": [
       "True"
      ]
     },
     "execution_count": 11,
     "metadata": {},
     "output_type": "execute_result"
    }
   ],
   "source": [
    "def isLeap(yr):\n",
    "    if yr%100==0:\n",
    "        yr = yr/100\n",
    "    return yr%4 == 0\n",
    "\n",
    "# Example\n",
    "isLeap(2024)"
   ]
  },
  {
   "cell_type": "markdown",
   "metadata": {},
   "source": [
    "Create a function to calculate the nth Fibonacci number.\n"
   ]
  },
  {
   "cell_type": "code",
   "execution_count": 12,
   "metadata": {},
   "outputs": [
    {
     "data": {
      "text/plain": [
       "89"
      ]
     },
     "execution_count": 12,
     "metadata": {},
     "output_type": "execute_result"
    }
   ],
   "source": [
    "def Fibonacci(n):\n",
    "    lst=[0,1]\n",
    "    i=0\n",
    "    while i < n:\n",
    "        lst.append(lst[-1]+lst[-2])\n",
    "        i+=1\n",
    "    return lst[n-1]\n",
    "\n",
    "# Example\n",
    "Fibonacci(12)"
   ]
  },
  {
   "cell_type": "code",
   "execution_count": 13,
   "metadata": {},
   "outputs": [
    {
     "data": {
      "text/plain": [
       "89"
      ]
     },
     "execution_count": 13,
     "metadata": {},
     "output_type": "execute_result"
    }
   ],
   "source": [
    "# Using recussive\n",
    "def Fibonacci_number(n):\n",
    "    if n == 1:\n",
    "        return 0\n",
    "    elif n == 2:\n",
    "        return 1\n",
    "    return Fibonacci_number(n-1)+Fibonacci_number(n-2)\n",
    "\n",
    "# Example\n",
    "Fibonacci_number(12)"
   ]
  },
  {
   "cell_type": "markdown",
   "metadata": {},
   "source": [
    "Implement a basic calculator that performs addition, subtraction, multiplication, and division based on user input.\n"
   ]
  },
  {
   "cell_type": "code",
   "execution_count": 14,
   "metadata": {},
   "outputs": [
    {
     "name": "stdout",
     "output_type": "stream",
     "text": [
      "The sum, difference, product and quotient of  3 and 2 are 5 , 1 , 6 and 1.5 respectively\n"
     ]
    }
   ],
   "source": [
    "def calculator(a,b):\n",
    "    res = print('The sum, difference, product and quotient of ', a, 'and', b, 'are', a+b, ',', a-b, ',', a*b, 'and', a/b, 'respectively')\n",
    "    return res\n",
    "\n",
    "#example\n",
    "calculator(3,2)"
   ]
  },
  {
   "cell_type": "markdown",
   "metadata": {},
   "source": [
    "Generate a multiplication table for a number provided by the user.\n"
   ]
  },
  {
   "cell_type": "code",
   "execution_count": 15,
   "metadata": {},
   "outputs": [
    {
     "name": "stdout",
     "output_type": "stream",
     "text": [
      "14 x 1 = 14\n",
      "14 x 2 = 28\n",
      "14 x 3 = 42\n",
      "14 x 4 = 56\n",
      "14 x 5 = 70\n",
      "14 x 6 = 84\n",
      "14 x 7 = 98\n",
      "14 x 8 = 112\n",
      "14 x 9 = 126\n",
      "14 x 10 = 140\n",
      "14 x 11 = 154\n",
      "14 x 12 = 168\n"
     ]
    }
   ],
   "source": [
    "def mulTable(num):\n",
    "    for i in range(1,13):\n",
    "        print(num, 'x', i, '=', num*i)\n",
    "\n",
    "#example\n",
    "mulTable(14)"
   ]
  },
  {
   "cell_type": "code",
   "execution_count": 16,
   "metadata": {},
   "outputs": [
    {
     "name": "stdout",
     "output_type": "stream",
     "text": [
      "12 x 1 = 12\n",
      "12 x 2 = 24\n",
      "12 x 3 = 36\n",
      "12 x 4 = 48\n",
      "12 x 5 = 60\n",
      "12 x 6 = 72\n",
      "12 x 7 = 84\n",
      "12 x 8 = 96\n",
      "12 x 9 = 108\n",
      "12 x 10 = 120\n",
      "12 x 11 = 132\n",
      "12 x 12 = 144\n"
     ]
    }
   ],
   "source": [
    "# using the format function\n",
    "def Table2(num):\n",
    "    for i in range(1,13):\n",
    "        res = '{} x {} = {}'.format(num, i, num*i)\n",
    "        print(res)\n",
    "\n",
    "Table2(12)"
   ]
  },
  {
   "cell_type": "code",
   "execution_count": 17,
   "metadata": {},
   "outputs": [
    {
     "name": "stdout",
     "output_type": "stream",
     "text": [
      "18 x 1 = 18\n",
      "18 x 2 = 36\n",
      "18 x 3 = 54\n",
      "18 x 4 = 72\n",
      "18 x 5 = 90\n",
      "18 x 6 = 108\n",
      "18 x 7 = 126\n",
      "18 x 8 = 144\n",
      "18 x 9 = 162\n",
      "18 x 10 = 180\n",
      "18 x 11 = 198\n",
      "18 x 12 = 216\n"
     ]
    }
   ],
   "source": [
    "#Template strings from the string module\n",
    "\n",
    "from string import Template\n",
    "def Table3(num):\n",
    "    res = Template('$num x $i = $prod')\n",
    "    for i in range(1,13):\n",
    "        print(res.substitute(num = num, i = i, prod=num*i))\n",
    "\n",
    "Table3(18)"
   ]
  },
  {
   "cell_type": "markdown",
   "metadata": {},
   "source": [
    "Write a program to reverse a given integer.\n"
   ]
  },
  {
   "cell_type": "code",
   "execution_count": 18,
   "metadata": {},
   "outputs": [
    {
     "data": {
      "text/plain": [
       "4321"
      ]
     },
     "execution_count": 18,
     "metadata": {},
     "output_type": "execute_result"
    }
   ],
   "source": [
    "def reverse(num):\n",
    "    num1 = str(num)\n",
    "    return int(num1[::-1])\n",
    "\n",
    "#example\n",
    "reverse(1234)"
   ]
  },
  {
   "cell_type": "markdown",
   "metadata": {},
   "source": [
    "Level 3"
   ]
  },
  {
   "cell_type": "markdown",
   "metadata": {},
   "source": [
    "Create a function to calculate the factorial of a number using recursion.\n"
   ]
  },
  {
   "cell_type": "code",
   "execution_count": 19,
   "metadata": {},
   "outputs": [
    {
     "data": {
      "text/plain": [
       "120"
      ]
     },
     "execution_count": 19,
     "metadata": {},
     "output_type": "execute_result"
    }
   ],
   "source": [
    "def factorial(num):\n",
    "    res = 1\n",
    "    if num == 0:\n",
    "        return res\n",
    "    elif num == int(num) and num >= 1: \n",
    "        for el in range(1,num+1):\n",
    "            res*=el\n",
    "        return res\n",
    "\n",
    "#example\n",
    "factorial(5)"
   ]
  },
  {
   "cell_type": "code",
   "execution_count": 20,
   "metadata": {},
   "outputs": [
    {
     "data": {
      "text/plain": [
       "120"
      ]
     },
     "execution_count": 20,
     "metadata": {},
     "output_type": "execute_result"
    }
   ],
   "source": [
    "# By recursion\n",
    "def factorial_n(num):\n",
    "    if num < 0:\n",
    "        return 'Wrong imput'\n",
    "    elif num <= 1:\n",
    "        return 1\n",
    "    return num*factorial_n(num-1)\n",
    "\n",
    "# Example\n",
    "factorial_n(5)"
   ]
  },
  {
   "cell_type": "markdown",
   "metadata": {},
   "source": [
    "Implement a function that checks whether a string is a palindrome.\n"
   ]
  },
  {
   "cell_type": "code",
   "execution_count": 21,
   "metadata": {},
   "outputs": [
    {
     "data": {
      "text/plain": [
       "False"
      ]
     },
     "execution_count": 21,
     "metadata": {},
     "output_type": "execute_result"
    }
   ],
   "source": [
    "def palindrome(var):\n",
    "    var1 = var[::-1]\n",
    "    return var == var1\n",
    "\n",
    "# Example\n",
    "palindrome('apple')"
   ]
  },
  {
   "cell_type": "code",
   "execution_count": 22,
   "metadata": {},
   "outputs": [
    {
     "data": {
      "text/plain": [
       "True"
      ]
     },
     "execution_count": 22,
     "metadata": {},
     "output_type": "execute_result"
    }
   ],
   "source": [
    "# Example\n",
    "palindrome('madam')"
   ]
  },
  {
   "cell_type": "markdown",
   "metadata": {},
   "source": [
    "Write a program to find the sum of all multiples of 3 and 5 below a user-specified number.\n"
   ]
  },
  {
   "cell_type": "code",
   "execution_count": 23,
   "metadata": {},
   "outputs": [
    {
     "data": {
      "text/plain": [
       "585"
      ]
     },
     "execution_count": 23,
     "metadata": {},
     "output_type": "execute_result"
    }
   ],
   "source": [
    "def sum_of_multiple(num):\n",
    "    lst3=[]\n",
    "    lst5=[]\n",
    "    for i in range(1,num+1):\n",
    "        if i%3 == 0:\n",
    "            lst3.append(i)\n",
    "        if i%5 == 0:\n",
    "            lst5.append(i)\n",
    "    return sum(lst3)+sum(lst5)\n",
    "\n",
    "#example\n",
    "sum_of_multiple(45)"
   ]
  },
  {
   "cell_type": "code",
   "execution_count": 24,
   "metadata": {},
   "outputs": [
    {
     "data": {
      "text/plain": [
       "585"
      ]
     },
     "execution_count": 24,
     "metadata": {},
     "output_type": "execute_result"
    }
   ],
   "source": [
    "def sum_of_multiple2(num):\n",
    "    lst3 = [i for i in range(num+1) if i%3 == 0]\n",
    "    lst5 = [i for i in range(num+1) if i%5 == 0]\n",
    "    return sum(lst3)+sum(lst5)\n",
    "\n",
    "#example\n",
    "sum_of_multiple2(45)"
   ]
  },
  {
   "cell_type": "markdown",
   "metadata": {},
   "source": [
    "Create a function to find the greatest common divisor (GCD) of two numbers.\n"
   ]
  },
  {
   "cell_type": "code",
   "execution_count": 25,
   "metadata": {},
   "outputs": [
    {
     "data": {
      "text/plain": [
       "18"
      ]
     },
     "execution_count": 25,
     "metadata": {},
     "output_type": "execute_result"
    }
   ],
   "source": [
    "#Using for loop\n",
    "def gcd(num1,num2):\n",
    "    lst=[1]\n",
    "    for i in range(2,num1+1):\n",
    "        if num1%i ==0 and num2%i ==0:\n",
    "            lst.append(i)\n",
    "    return max(lst)\n",
    "\n",
    "# Example\n",
    "gcd(108,18)"
   ]
  },
  {
   "cell_type": "code",
   "execution_count": 26,
   "metadata": {},
   "outputs": [
    {
     "data": {
      "text/plain": [
       "18"
      ]
     },
     "execution_count": 26,
     "metadata": {},
     "output_type": "execute_result"
    }
   ],
   "source": [
    "# Using while loop\n",
    "def GCD(a, b):\n",
    "    factor, i = 1, 1\n",
    "    while i <= min(a,b):\n",
    "        if a%i == 0 and b%i == 0:\n",
    "            factor=i\n",
    "        i+=1\n",
    "    return factor\n",
    "\n",
    "# Example\n",
    "GCD(108,18)"
   ]
  },
  {
   "cell_type": "markdown",
   "metadata": {},
   "source": [
    "Implement a number guessing game where the computer selects a random number between 1 and 100, and the user has to guess it."
   ]
  },
  {
   "cell_type": "code",
   "execution_count": 27,
   "metadata": {},
   "outputs": [
    {
     "name": "stdin",
     "output_type": "stream",
     "text": [
      "Enter your guess:  23\n",
      "Enter your guess:  12\n",
      "Enter your guess:  11\n",
      "Enter your guess:  34\n",
      "Enter your guess:  45\n",
      "Enter your guess:  43\n",
      "Enter your guess:  56\n",
      "Enter your guess:  23\n",
      "Enter your guess:  89\n",
      "Enter your guess:  92\n",
      "Enter your guess:  91\n",
      "Enter your guess:  34\n",
      "Enter your guess:  3\n",
      "Enter your guess:  4\n",
      "Enter your guess:  5\n",
      "Enter your guess:  6\n",
      "Enter your guess:  7\n",
      "Enter your guess:  8\n",
      "Enter your guess:  9\n",
      "Enter your guess:  15\n",
      "Enter your guess:  19\n",
      "Enter your guess:  17\n",
      "Enter your guess:  34\n",
      "Enter your guess:  36\n",
      "Enter your guess:  38\n",
      "Enter your guess:  39\n",
      "Enter your guess:  40\n",
      "Enter your guess:  42\n",
      "Enter your guess:  63\n",
      "Enter your guess:  67\n",
      "Enter your guess:  69\n",
      "Enter your guess:  83\n",
      "Enter your guess:  84\n",
      "Enter your guess:  86\n",
      "Enter your guess:  19\n",
      "Enter your guess:  25\n",
      "Enter your guess:  28\n",
      "Enter your guess:  33\n",
      "Enter your guess:  34\n",
      "Enter your guess:  35\n",
      "Enter your guess:  36\n",
      "Enter your guess:  37\n",
      "Enter your guess:  38\n",
      "Enter your guess:  51\n",
      "Enter your guess:  52\n",
      "Enter your guess:  52\n",
      "Enter your guess:  54\n",
      "Enter your guess:  57\n",
      "Enter your guess:  21\n",
      "Enter your guess:  22\n",
      "Enter your guess:  29\n",
      "Enter your guess:  92\n",
      "Enter your guess:  39\n",
      "Enter your guess:  93\n",
      "Enter your guess:  75\n",
      "Enter your guess:  74\n",
      "Enter your guess:  71\n",
      "Enter your guess:  53\n",
      "Enter your guess:  1\n",
      "Enter your guess:  85\n",
      "Enter your guess:  81\n",
      "Enter your guess:  80\n",
      "Enter your guess:  75\n",
      "Enter your guess:  76\n",
      "Enter your guess:  77\n",
      "Enter your guess:  78\n",
      "Enter your guess:  63\n",
      "Enter your guess:  64\n",
      "Enter your guess:  65\n",
      "Enter your guess:  66\n",
      "Enter your guess:  44\n",
      "Enter your guess:  45\n",
      "Enter your guess:  46\n",
      "Enter your guess:  47\n"
     ]
    },
    {
     "name": "stdout",
     "output_type": "stream",
     "text": [
      "It takes you 74 trial(s) to get it right.\n"
     ]
    }
   ],
   "source": [
    "import random\n",
    "\n",
    "e = random.randrange(1,100)\n",
    "count = 1\n",
    "while True:\n",
    "    guess = input(\"Enter your guess: \")\n",
    "    if e == int(guess):\n",
    "        print(f\"It takes you {count} trial(s) to get it right.\")\n",
    "        break\n",
    "    else:\n",
    "        count+=1"
   ]
  },
  {
   "cell_type": "code",
   "execution_count": null,
   "metadata": {},
   "outputs": [],
   "source": []
  }
 ],
 "metadata": {
  "kernelspec": {
   "display_name": "Python 3 (ipykernel)",
   "language": "python",
   "name": "python3"
  },
  "language_info": {
   "codemirror_mode": {
    "name": "ipython",
    "version": 3
   },
   "file_extension": ".py",
   "mimetype": "text/x-python",
   "name": "python",
   "nbconvert_exporter": "python",
   "pygments_lexer": "ipython3",
   "version": "3.12.7"
  }
 },
 "nbformat": 4,
 "nbformat_minor": 4
}
