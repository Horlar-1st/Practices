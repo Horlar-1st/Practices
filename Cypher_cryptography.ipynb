{
 "cells": [
  {
   "cell_type": "code",
   "execution_count": 1,
   "id": "1dd334ab",
   "metadata": {},
   "outputs": [],
   "source": [
    "def encrpyt():\n",
    "    print(\"This program is for encoding and decoding information using a shift\")\n",
    "    print(\" \")\n",
    "\n",
    "    alphabet = \"ABCDEFGHIJKLMNOPQRSTUVWXYZ\"\n",
    "    text = input(\"Enter your text: \")\n",
    "    shift = input(\"Enter the shift: \")\n",
    "    print('')\n",
    "    text1 = text.upper()\n",
    "    \n",
    "\n",
    "    for i in range(len(text1)):\n",
    "        y = text1[i]\n",
    "        if y not in alphabet:\n",
    "            print(y, end='')\n",
    "        else: \n",
    "            code = alphabet.index(y)\n",
    "            output = (int(code) + int(shift)) % 26\n",
    "            print(alphabet[output], end='')"
   ]
  },
  {
   "cell_type": "code",
   "execution_count": 2,
   "id": "b429366d",
   "metadata": {
    "scrolled": true
   },
   "outputs": [
    {
     "name": "stdout",
     "output_type": "stream",
     "text": [
      "This program is for encoding and decoding information using a shift\n",
      " \n",
      "Enter your text: are you with me\n",
      "Enter the shift: 23\n",
      "\n",
      "XOB VLR TFQE JB"
     ]
    }
   ],
   "source": [
    "encrpyt()"
   ]
  },
  {
   "cell_type": "code",
   "execution_count": 5,
   "id": "9a112ad1",
   "metadata": {},
   "outputs": [],
   "source": [
    "def decrpyt():\n",
    "    print(\"This program is for encoding and decoding information using a shift\")\n",
    "    print(\" \")\n",
    "\n",
    "    alphabet = \"ABCDEFGHIJKLMNOPQRSTUVWXYZ\"\n",
    "    text = input(\"Enter your text: \")\n",
    "    shift = input(\"Enter the shift: \")\n",
    "    print('')\n",
    "    text1 = text.upper()\n",
    "    \n",
    "\n",
    "    for i in range(len(text1)):\n",
    "        y = text1[i]\n",
    "        if y not in alphabet:\n",
    "            print(y, end='')\n",
    "        else: \n",
    "            code = alphabet.index(y)\n",
    "            output = (int(code) - int(shift)) % 26\n",
    "            print(alphabet[output], end='')"
   ]
  },
  {
   "cell_type": "code",
   "execution_count": 4,
   "id": "f422b486",
   "metadata": {},
   "outputs": [
    {
     "name": "stdout",
     "output_type": "stream",
     "text": [
      "This program is for encoding and decoding information using a shift\n",
      " \n",
      "Enter your text: XOB VLR TFQE JB\n",
      "Enter the shift: 23\n",
      "\n",
      "ARE YOU WITH ME"
     ]
    }
   ],
   "source": [
    "decrpyt()"
   ]
  },
  {
   "cell_type": "code",
   "execution_count": null,
   "id": "3fb187ff",
   "metadata": {},
   "outputs": [],
   "source": []
  }
 ],
 "metadata": {
  "kernelspec": {
   "display_name": "Python 3 (ipykernel)",
   "language": "python",
   "name": "python3"
  },
  "language_info": {
   "codemirror_mode": {
    "name": "ipython",
    "version": 3
   },
   "file_extension": ".py",
   "mimetype": "text/x-python",
   "name": "python",
   "nbconvert_exporter": "python",
   "pygments_lexer": "ipython3",
   "version": "3.11.2"
  }
 },
 "nbformat": 4,
 "nbformat_minor": 5
}
