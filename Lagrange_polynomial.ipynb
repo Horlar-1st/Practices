{
 "cells": [
  {
   "cell_type": "code",
   "execution_count": 1,
   "id": "e65c44d8-3c3d-47ce-ad83-34588f591850",
   "metadata": {},
   "outputs": [],
   "source": [
    "import numpy as np\n",
    "import sympy as sp"
   ]
  },
  {
   "cell_type": "code",
   "execution_count": 3,
   "id": "fe5d093d-338c-4909-8484-a964a2d21be9",
   "metadata": {},
   "outputs": [],
   "source": [
    "x = sp.symbols('x')"
   ]
  },
  {
   "cell_type": "code",
   "execution_count": 5,
   "id": "e7d97d99-985f-404d-af9c-aceef7e2972a",
   "metadata": {},
   "outputs": [],
   "source": [
    "def lagrange(xn,yn):\n",
    "    \"\"\"\n",
    "    Generate lagrange polynomial with lowest degree that interpolates a give set of data\n",
    "    Args:\n",
    "        xn (list): A list of the values of x\n",
    "        yn (list): A list of the values of y\n",
    "    Returns: \n",
    "        function: The lowest degree lagrange polynomial\n",
    "    \"\"\"\n",
    "    try:\n",
    "        n = len(xn)\n",
    "        l = []\n",
    "        yn = np.array(yn)\n",
    "        fn = 0\n",
    "        for i in range(n):\n",
    "            numerator, denominator = 1, 1\n",
    "            for j in range(n):\n",
    "                numerator *= (x - xn[j]) if i != j else 1\n",
    "                denominator *= (xn[i] - xn[j]) if i != j else 1\n",
    "            l.append(sp.expand(numerator/denominator))\n",
    "        for j in range(n):\n",
    "            fn += yn[j]*l[j]\n",
    "        return fn\n",
    "    except IndexError:\n",
    "        return f\"The length of xn and yn are not equal. Update your inputs\"\n",
    "    except Exception as e:\n",
    "        return f\"An unexpected error occurred: {str(e)}\""
   ]
  },
  {
   "cell_type": "code",
   "execution_count": 7,
   "id": "2218e0b3-b75f-4855-89ec-60a20d3dfb35",
   "metadata": {},
   "outputs": [
    {
     "data": {
      "text/latex": [
       "$\\displaystyle x$"
      ],
      "text/plain": [
       "x"
      ]
     },
     "execution_count": 7,
     "metadata": {},
     "output_type": "execute_result"
    }
   ],
   "source": [
    "xn = [0,1,2,3]\n",
    "yn = [0,1,2,3]\n",
    "lagrange(xn,yn)"
   ]
  },
  {
   "cell_type": "code",
   "execution_count": 9,
   "id": "f2f106de-669b-448c-942a-6da9c7b4b689",
   "metadata": {},
   "outputs": [
    {
     "data": {
      "text/latex": [
       "$\\displaystyle x^{2} + 5$"
      ],
      "text/plain": [
       "x**2 + 5"
      ]
     },
     "execution_count": 9,
     "metadata": {},
     "output_type": "execute_result"
    }
   ],
   "source": [
    "x1 = [-1,1,2]\n",
    "y1 = [6,6,9]\n",
    "lagrange(x1,y1)"
   ]
  },
  {
   "cell_type": "code",
   "execution_count": 11,
   "id": "a12ffec9-c259-4d13-9bbb-1a61745f0932",
   "metadata": {},
   "outputs": [
    {
     "data": {
      "text/latex": [
       "$\\displaystyle \\frac{13 x^{3}}{6} - 16 x^{2} + \\frac{215 x}{6} - 21$"
      ],
      "text/plain": [
       "13*x**3/6 - 16*x**2 + 215*x/6 - 21"
      ]
     },
     "execution_count": 11,
     "metadata": {},
     "output_type": "execute_result"
    }
   ],
   "source": [
    "X = [1,2,3,4]\n",
    "Y = [1,4,1,5]\n",
    "lagrange(X,Y)"
   ]
  },
  {
   "cell_type": "code",
   "execution_count": 13,
   "id": "9084fff4-c7d2-412e-9d1e-46adcdf4fe2c",
   "metadata": {},
   "outputs": [
    {
     "data": {
      "text/latex": [
       "$\\displaystyle \\frac{x^{9}}{2688} - \\frac{179 x^{8}}{10080} + \\frac{811 x^{7}}{2240} - \\frac{1483 x^{6}}{360} + \\frac{55051 x^{5}}{1920} - \\frac{181183 x^{4}}{1440} + \\frac{387057 x^{3}}{1120} - \\frac{357551 x^{2}}{630} + \\frac{69983 x}{140} - 176$"
      ],
      "text/plain": [
       "x**9/2688 - 179*x**8/10080 + 811*x**7/2240 - 1483*x**6/360 + 55051*x**5/1920 - 181183*x**4/1440 + 387057*x**3/1120 - 357551*x**2/630 + 69983*x/140 - 176"
      ]
     },
     "execution_count": 13,
     "metadata": {},
     "output_type": "execute_result"
    }
   ],
   "source": [
    "xi = [1,2,3,4,5,6,7,8,9,10]\n",
    "yi = [1,1,2,3,5,8,9,10,4,1]\n",
    "lagrange(xi,yi)"
   ]
  },
  {
   "cell_type": "code",
   "execution_count": null,
   "id": "8c13c4e8-7029-4aed-8686-b244f308b11c",
   "metadata": {},
   "outputs": [],
   "source": []
  }
 ],
 "metadata": {
  "kernelspec": {
   "display_name": "Python [conda env:base] *",
   "language": "python",
   "name": "conda-base-py"
  },
  "language_info": {
   "codemirror_mode": {
    "name": "ipython",
    "version": 3
   },
   "file_extension": ".py",
   "mimetype": "text/x-python",
   "name": "python",
   "nbconvert_exporter": "python",
   "pygments_lexer": "ipython3",
   "version": "3.12.7"
  }
 },
 "nbformat": 4,
 "nbformat_minor": 5
}
