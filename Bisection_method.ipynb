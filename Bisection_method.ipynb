{
 "cells": [
  {
   "cell_type": "code",
   "execution_count": 1,
   "id": "795b7005",
   "metadata": {},
   "outputs": [],
   "source": [
    "import math\n",
    "def bisection_method(func, a, b, decimal_places):\n",
    "    \"\"\"\n",
    "    Find the root of a function using the bisection method.\n",
    "\n",
    "    Args:\n",
    "        func (str): A string representation of the function.\n",
    "        a (float): The lower bound of the search interval.\n",
    "        b (float): The upper bound of the search interval.\n",
    "        decimal_places (int): The desired precision of the result.\n",
    "\n",
    "    Returns:\n",
    "        float: The approximate root of the function.\n",
    "    \"\"\"\n",
    "\n",
    "    try:\n",
    "        f = eval('lambda x: ' + func)\n",
    "\n",
    "        # Check if the function changes sign within the interval\n",
    "        if (f(a) < 0 and f(b) > 0) or (f(a) > 0 and f(b) < 0):\n",
    "            # Initialize the interval boundaries\n",
    "            lower_bound = a\n",
    "            upper_bound = b\n",
    "\n",
    "            while abs(upper_bound - lower_bound) > 10**(-decimal_places):\n",
    "                # Calculate the midpoint of the interval\n",
    "                midpoint = (lower_bound + upper_bound) / 2\n",
    "\n",
    "                # Check if the function is zero at the midpoint\n",
    "                if f(midpoint) == 0:\n",
    "                    return midpoint\n",
    "\n",
    "                # Update the interval boundaries based on the sign of the function\n",
    "                elif f(lower_bound) * f(midpoint) < 0:\n",
    "                    upper_bound = midpoint\n",
    "                else:\n",
    "                    lower_bound = midpoint\n",
    "\n",
    "            # Return the approximate root\n",
    "            return (lower_bound + upper_bound) / 2\n",
    "\n",
    "        else:\n",
    "            return \"There is no solution in the boundary\"\n",
    "\n",
    "    except NameError:\n",
    "        return \"Error: Check the inputs. Remember the function must be in string format.\"\n",
    "    except TypeError:\n",
    "        return \"Error: Make sure your inputs are correct and complete.\"\n",
    "    except Exception as e:\n",
    "        return f\"An unexpected error occurred: {str(e)}\""
   ]
  },
  {
   "cell_type": "markdown",
   "id": "c1ee8aaf",
   "metadata": {},
   "source": [
    "Solve f(x) = $x^2$ - 12 at [3,5] to 6 decimal places"
   ]
  },
  {
   "cell_type": "code",
   "execution_count": 2,
   "id": "62a6d831",
   "metadata": {},
   "outputs": [
    {
     "data": {
      "text/plain": [
       "3.4641013145446777"
      ]
     },
     "execution_count": 2,
     "metadata": {},
     "output_type": "execute_result"
    }
   ],
   "source": [
    "bisection_method(\"x**2-12\",3,5,6)"
   ]
  },
  {
   "cell_type": "markdown",
   "id": "6891a930",
   "metadata": {},
   "source": [
    "Solve f(x) = x - $e^{-x}$ - 12 at [0,1] to 6 decimal places"
   ]
  },
  {
   "cell_type": "code",
   "execution_count": 3,
   "id": "27c54aae",
   "metadata": {},
   "outputs": [
    {
     "data": {
      "text/plain": [
       "0.5671429634094238"
      ]
     },
     "execution_count": 3,
     "metadata": {},
     "output_type": "execute_result"
    }
   ],
   "source": [
    "bisection_method(\"x - math.exp(-x)\",0,1,6)"
   ]
  },
  {
   "cell_type": "markdown",
   "id": "dc47f5b3",
   "metadata": {},
   "source": [
    "Solve f(x) = 5 - $1/x$ - 12 at [0,0.25] to 8 decimal places"
   ]
  },
  {
   "cell_type": "code",
   "execution_count": 4,
   "id": "2bd431ad",
   "metadata": {},
   "outputs": [
    {
     "data": {
      "text/plain": [
       "0.19999999850988387"
      ]
     },
     "execution_count": 4,
     "metadata": {},
     "output_type": "execute_result"
    }
   ],
   "source": [
    "bisection_method(\"5 - 1/x\",0.1,0.25,8)"
   ]
  },
  {
   "cell_type": "markdown",
   "id": "04437cf2",
   "metadata": {},
   "source": [
    "Solve g(x) = 1 - 2x $e^{-x/2}$ - 12 at [0,2] to 6 decimal places"
   ]
  },
  {
   "cell_type": "code",
   "execution_count": 5,
   "id": "81c8f72f",
   "metadata": {},
   "outputs": [
    {
     "data": {
      "text/plain": [
       "0.714806079864502"
      ]
     },
     "execution_count": 5,
     "metadata": {},
     "output_type": "execute_result"
    }
   ],
   "source": [
    "bisection_method(\"1 - 2*x*math.exp(-x/2)\",0,2,6)"
   ]
  },
  {
   "cell_type": "markdown",
   "id": "5ff9e314",
   "metadata": {},
   "source": [
    "Solve f(x) = $x^2$ - sin(x) at [0.1,$\\pi$] to 6 decimal places"
   ]
  },
  {
   "cell_type": "code",
   "execution_count": 6,
   "id": "8dddb438",
   "metadata": {
    "scrolled": true
   },
   "outputs": [
    {
     "data": {
      "text/plain": [
       "0.8767265032089055"
      ]
     },
     "execution_count": 6,
     "metadata": {},
     "output_type": "execute_result"
    }
   ],
   "source": [
    "bisection_method(\"x**2 - math.sin(x)\",0.1,math.pi,6)"
   ]
  },
  {
   "cell_type": "code",
   "execution_count": null,
   "id": "432818af",
   "metadata": {},
   "outputs": [],
   "source": []
  }
 ],
 "metadata": {
  "kernelspec": {
   "display_name": "Python 3 (ipykernel)",
   "language": "python",
   "name": "python3"
  },
  "language_info": {
   "codemirror_mode": {
    "name": "ipython",
    "version": 3
   },
   "file_extension": ".py",
   "mimetype": "text/x-python",
   "name": "python",
   "nbconvert_exporter": "python",
   "pygments_lexer": "ipython3",
   "version": "3.11.2"
  }
 },
 "nbformat": 4,
 "nbformat_minor": 5
}
