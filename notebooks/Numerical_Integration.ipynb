{
 "cells": [
  {
   "cell_type": "code",
   "execution_count": 1,
   "id": "ef96208b",
   "metadata": {},
   "outputs": [],
   "source": [
    "import numpy as np"
   ]
  },
  {
   "cell_type": "markdown",
   "id": "5a831084",
   "metadata": {},
   "source": [
    "# Trapezoidal Rule"
   ]
  },
  {
   "cell_type": "markdown",
   "id": "25a4c09e",
   "metadata": {},
   "source": [
    "In this function, you integrating function as a string, the upper limit, lower limit and the step-length. E.g. Trapezoidal('x**2',0,1,0.001)"
   ]
  },
  {
   "cell_type": "code",
   "execution_count": 2,
   "id": "38b63ffa",
   "metadata": {},
   "outputs": [],
   "source": [
    "def Trapezoidal(fun, a, b, h):\n",
    "    f = eval('lambda x: ' + fun)\n",
    "    x = np.linspace(a,b,int((b-a)/h + 1))\n",
    "    f_val=f(x)\n",
    "    return (h/2)*(f_val[0] + f_val[-1] + 2*(sum(f_val[1:-1])))"
   ]
  },
  {
   "cell_type": "code",
   "execution_count": 3,
   "id": "b686e5b2",
   "metadata": {},
   "outputs": [
    {
     "data": {
      "text/plain": [
       "0.33333349999999995"
      ]
     },
     "execution_count": 3,
     "metadata": {},
     "output_type": "execute_result"
    }
   ],
   "source": [
    "Trapezoidal('x**2',0,1,0.001)"
   ]
  },
  {
   "cell_type": "code",
   "execution_count": 4,
   "id": "05bc9f06",
   "metadata": {},
   "outputs": [
    {
     "data": {
      "text/plain": [
       "-5.359698393402764e-13"
      ]
     },
     "execution_count": 4,
     "metadata": {},
     "output_type": "execute_result"
    }
   ],
   "source": [
    "Trapezoidal('np.tan(x)',0,np.pi,0.001)"
   ]
  },
  {
   "cell_type": "code",
   "execution_count": 5,
   "id": "825b3794",
   "metadata": {},
   "outputs": [
    {
     "data": {
      "text/plain": [
       "1.6094379924340922"
      ]
     },
     "execution_count": 5,
     "metadata": {},
     "output_type": "execute_result"
    }
   ],
   "source": [
    "Trapezoidal('1/x',1,5,0.001)"
   ]
  },
  {
   "cell_type": "markdown",
   "id": "e275b31b",
   "metadata": {},
   "source": [
    "# Simpson $\\frac{1}{3}$ Rule"
   ]
  },
  {
   "cell_type": "code",
   "execution_count": 6,
   "id": "3cb236b0",
   "metadata": {},
   "outputs": [],
   "source": [
    "def Simpson_1_3(fun, a, b, h):\n",
    "    f = eval('lambda x: ' + fun)\n",
    "    x = np.linspace(a,b,int((b-a)/h + 1))\n",
    "    f_val=f(x)\n",
    "    #sum of evens\n",
    "    even = sum([f_val[i] for i in range(1,len(f_val)-1,2)])\n",
    "    #sum of odds\n",
    "    odd = sum([f_val[i] for i in range(2,len(f_val),2)])\n",
    "    return (h/3)*(f_val[0] + f_val[-1] + 4*even + 2*odd)"
   ]
  },
  {
   "cell_type": "code",
   "execution_count": 7,
   "id": "3767bb70",
   "metadata": {},
   "outputs": [
    {
     "data": {
      "text/plain": [
       "0.334"
      ]
     },
     "execution_count": 7,
     "metadata": {},
     "output_type": "execute_result"
    }
   ],
   "source": [
    "Simpson_1_3('x**2',0,1,0.001)"
   ]
  },
  {
   "cell_type": "markdown",
   "id": "44bd3bd2",
   "metadata": {},
   "source": [
    "# Simpson $\\frac{3}{8}$ Rule"
   ]
  },
  {
   "cell_type": "code",
   "execution_count": 8,
   "id": "9418da11",
   "metadata": {},
   "outputs": [],
   "source": [
    "def Simpson_3_8(fun, a, b, h):\n",
    "    f = eval('lambda x: ' + fun)\n",
    "    x = np.linspace(a,b,int((b-a)/h + 1))\n",
    "    f_val=f(x)\n",
    "    #sum of evens\n",
    "    threes = sum([f_val[i] for i in range(1,len(f_val)-1) if i % 3==0])\n",
    "    #sum of odds\n",
    "    none = sum([f_val[i] for i in range(1,len(f_val)-1) if i % 3 != 0])\n",
    "    return ((3*h)/8)*(f_val[0] + f_val[-1] + 3*none + 2*threes)"
   ]
  },
  {
   "cell_type": "code",
   "execution_count": 9,
   "id": "809fb2f5",
   "metadata": {},
   "outputs": [
    {
     "data": {
      "text/plain": [
       "0.333083583375"
      ]
     },
     "execution_count": 9,
     "metadata": {},
     "output_type": "execute_result"
    }
   ],
   "source": [
    "Simpson_3_8('x**2',0,1,0.001)"
   ]
  },
  {
   "cell_type": "code",
   "execution_count": null,
   "id": "a8c8db52",
   "metadata": {},
   "outputs": [],
   "source": []
  }
 ],
 "metadata": {
  "kernelspec": {
   "display_name": "Python 3 (ipykernel)",
   "language": "python",
   "name": "python3"
  },
  "language_info": {
   "codemirror_mode": {
    "name": "ipython",
    "version": 3
   },
   "file_extension": ".py",
   "mimetype": "text/x-python",
   "name": "python",
   "nbconvert_exporter": "python",
   "pygments_lexer": "ipython3",
   "version": "3.11.2"
  }
 },
 "nbformat": 4,
 "nbformat_minor": 5
}
