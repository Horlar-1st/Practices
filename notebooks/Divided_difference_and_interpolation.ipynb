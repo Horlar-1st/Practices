{
 "cells": [
  {
   "cell_type": "code",
   "execution_count": 1,
   "id": "c301667e-8e0c-4641-b839-f2275bac2052",
   "metadata": {},
   "outputs": [],
   "source": [
    "import numpy as np\n",
    "import sympy as sp"
   ]
  },
  {
   "cell_type": "code",
   "execution_count": 2,
   "id": "3115389c-154b-425d-b8bd-22ae4962c873",
   "metadata": {},
   "outputs": [],
   "source": [
    "x = sp.symbols('x')"
   ]
  },
  {
   "cell_type": "code",
   "execution_count": 5,
   "id": "a2b9c6f2-26c6-441d-a576-28282ad71374",
   "metadata": {},
   "outputs": [],
   "source": [
    "def divided_difference(xn,yn):\n",
    "    \"\"\"\n",
    "    Calculate divided difference for a given set of data\n",
    "    Args:\n",
    "        xn (list): A list of the values of x\n",
    "        yn (list): A list of the values of y\n",
    "    Returns: \n",
    "        nexted list: A nested list containing the lists of each columns of differences\n",
    "    \"\"\"    \n",
    "    tab = [yn]\n",
    "    n = len(xn)\n",
    "    for i in range(1,n):\n",
    "        col = []\n",
    "        for j in range(n-i):\n",
    "            diff = (tab[i-1][j+1] - tab[i-1][j])/(xn[i+j] - xn[j])\n",
    "            col.append(diff)\n",
    "        tab.append(col)\n",
    "    return tab"
   ]
  },
  {
   "cell_type": "code",
   "execution_count": 7,
   "id": "06b28db9-1092-43ef-bc7a-1a5ee92bd68c",
   "metadata": {},
   "outputs": [
    {
     "data": {
      "text/plain": [
       "[[7, 3, 8, 5], [-4.0, 5.0, -3.0], [4.5, -4.0], [-2.8333333333333335]]"
      ]
     },
     "execution_count": 7,
     "metadata": {},
     "output_type": "execute_result"
    }
   ],
   "source": [
    "divided_difference([0,1,2,3],[7,3,8,5])"
   ]
  },
  {
   "cell_type": "code",
   "execution_count": 9,
   "id": "78995bd3-5a34-4afa-b15e-37ecbbe28e08",
   "metadata": {},
   "outputs": [],
   "source": [
    "def newton_interplolation(xn,yn):\n",
    "    \"\"\"\n",
    "    Generate Newton's interpolation polynomial with lowest degree for a given set of data\n",
    "    Args:\n",
    "        xn (list): A list of the values of x\n",
    "        yn (list): A list of the values of y\n",
    "    Returns: \n",
    "        function: The lowest degree Newton's polynomial\n",
    "    \"\"\"  \n",
    "    n = len(xn)\n",
    "    coefficient = [divided_difference(xn,yn)[i][0] for i in range(n)]\n",
    "    pis = [1]\n",
    "    initial = 1\n",
    "    res = 0\n",
    "    for i in range(n-1):\n",
    "        initial *= (x - xn[i])\n",
    "        pis.append(sp.expand(initial))\n",
    "    for j in range(n):\n",
    "        res += coefficient[j]*pis[j]\n",
    "    return res"
   ]
  },
  {
   "cell_type": "code",
   "execution_count": 11,
   "id": "33019f70-a612-4d0b-b248-620a8353e379",
   "metadata": {},
   "outputs": [
    {
     "data": {
      "text/latex": [
       "$\\displaystyle 1.0 x$"
      ],
      "text/plain": [
       "1.0*x"
      ]
     },
     "execution_count": 11,
     "metadata": {},
     "output_type": "execute_result"
    }
   ],
   "source": [
    "xn = [0,1,2,3]\n",
    "yn = [0,1,2,3]\n",
    "newton_interplolation(xn,yn)"
   ]
  },
  {
   "cell_type": "code",
   "execution_count": 13,
   "id": "c8130f15-3ade-49f2-b645-7f58485d292f",
   "metadata": {
    "scrolled": true
   },
   "outputs": [
    {
     "data": {
      "text/latex": [
       "$\\displaystyle - 2.83333333333333 x^{3} + 13.0 x^{2} - 14.1666666666667 x + 7$"
      ],
      "text/plain": [
       "-2.83333333333333*x**3 + 13.0*x**2 - 14.1666666666667*x + 7"
      ]
     },
     "execution_count": 13,
     "metadata": {},
     "output_type": "execute_result"
    }
   ],
   "source": [
    "newton_interplolation([0,1,2,3],[7,3,8,5])"
   ]
  },
  {
   "cell_type": "code",
   "execution_count": 15,
   "id": "1e73b3f6-d047-4a74-b8a1-6e1ab0a78d51",
   "metadata": {},
   "outputs": [
    {
     "name": "stdout",
     "output_type": "stream",
     "text": [
      "0.00037202380952381*x**9 - 0.0177579365079365*x**8 + 0.362053571428571*x**7 - 4.11944444444445*x**6 + 28.6723958333333*x**5 - 125.821527777778*x**4 + 345.586607142857*x**3 - 567.54126984127*x**2 + 499.878571428571*x - 176.0\n"
     ]
    }
   ],
   "source": [
    "xi = [1,2,3,4,5,6,7,8,9,10]\n",
    "yi = [1,1,2,3,5,8,9,10,4,1]\n",
    "print(newton_interplolation(xi,yi))"
   ]
  },
  {
   "cell_type": "code",
   "execution_count": null,
   "id": "39a50659-d9e3-42e5-baa7-50d40766ef87",
   "metadata": {},
   "outputs": [],
   "source": []
  }
 ],
 "metadata": {
  "kernelspec": {
   "display_name": "Python [conda env:base] *",
   "language": "python",
   "name": "conda-base-py"
  },
  "language_info": {
   "codemirror_mode": {
    "name": "ipython",
    "version": 3
   },
   "file_extension": ".py",
   "mimetype": "text/x-python",
   "name": "python",
   "nbconvert_exporter": "python",
   "pygments_lexer": "ipython3",
   "version": "3.12.7"
  }
 },
 "nbformat": 4,
 "nbformat_minor": 5
}
