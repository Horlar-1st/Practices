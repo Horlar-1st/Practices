{
 "cells": [
  {
   "cell_type": "markdown",
   "id": "47e82592",
   "metadata": {},
   "source": [
    "# 1. Basic Python Syntax and Operations"
   ]
  },
  {
   "cell_type": "markdown",
   "id": "071f6c48",
   "metadata": {},
   "source": [
    "Level 1: Easy"
   ]
  },
  {
   "cell_type": "markdown",
   "id": "293ad927",
   "metadata": {},
   "source": [
    "Write a program to add two numbers entered by the user."
   ]
  },
  {
   "cell_type": "code",
   "execution_count": 1,
   "id": "d2a18df6",
   "metadata": {},
   "outputs": [
    {
     "data": {
      "text/plain": [
       "31149"
      ]
     },
     "execution_count": 1,
     "metadata": {},
     "output_type": "execute_result"
    }
   ],
   "source": [
    "def add(x,y):\n",
    "    return x+y\n",
    "\n",
    "add(23332,7817)"
   ]
  },
  {
   "cell_type": "markdown",
   "id": "57116354",
   "metadata": {},
   "source": [
    "Calculate the sum of all integers from 1 to a user-specified number."
   ]
  },
  {
   "cell_type": "code",
   "execution_count": 2,
   "id": "00a87188",
   "metadata": {},
   "outputs": [
    {
     "data": {
      "text/plain": [
       "55"
      ]
     },
     "execution_count": 2,
     "metadata": {},
     "output_type": "execute_result"
    }
   ],
   "source": [
    "def sum_all(num):\n",
    "    a=0\n",
    "    for i in range(num+1):\n",
    "        a+=i\n",
    "    return a\n",
    "\n",
    "sum_all(10)"
   ]
  },
  {
   "cell_type": "markdown",
   "id": "ebe654a9",
   "metadata": {},
   "source": [
    "Find the area of a circle given the radius (user input)."
   ]
  },
  {
   "cell_type": "code",
   "execution_count": 3,
   "id": "8a7903fa",
   "metadata": {},
   "outputs": [
    {
     "data": {
      "text/plain": [
       "314.1592653589793"
      ]
     },
     "execution_count": 3,
     "metadata": {},
     "output_type": "execute_result"
    }
   ],
   "source": [
    "from math import pi\n",
    "def area(r):\n",
    "    return pi*r*r\n",
    "\n",
    "area(10)"
   ]
  },
  {
   "cell_type": "markdown",
   "id": "78c3982c",
   "metadata": {},
   "source": [
    "Print all even numbers between 1 and 100."
   ]
  },
  {
   "cell_type": "code",
   "execution_count": 4,
   "id": "3dda60f2",
   "metadata": {
    "scrolled": true
   },
   "outputs": [
    {
     "name": "stdout",
     "output_type": "stream",
     "text": [
      "[2, 4, 6, 8, 10, 12, 14, 16, 18, 20, 22, 24, 26, 28, 30, 32, 34, 36, 38, 40, 42, 44, 46, 48, 50, 52, 54, 56, 58, 60, 62, 64, 66, 68, 70, 72, 74, 76, 78, 80, 82, 84, 86, 88, 90, 92, 94, 96, 98]\n"
     ]
    }
   ],
   "source": [
    "print([i for i in range(1,100) if i%2==0])"
   ]
  },
  {
   "cell_type": "markdown",
   "id": "d6d80b40",
   "metadata": {},
   "source": [
    "Given two numbers, return their maximum"
   ]
  },
  {
   "cell_type": "code",
   "execution_count": 5,
   "id": "573f2298",
   "metadata": {},
   "outputs": [
    {
     "data": {
      "text/plain": [
       "213"
      ]
     },
     "execution_count": 5,
     "metadata": {},
     "output_type": "execute_result"
    }
   ],
   "source": [
    "def maximum(A,B):\n",
    "    if A > B:\n",
    "        return A\n",
    "    return B\n",
    "\n",
    "maximum(213,23)"
   ]
  },
  {
   "cell_type": "markdown",
   "id": "17bf5d81",
   "metadata": {},
   "source": [
    "Level 2: Intermediate"
   ]
  },
  {
   "cell_type": "markdown",
   "id": "9b107961",
   "metadata": {},
   "source": [
    "Write a function to check if a given year is a leap year"
   ]
  },
  {
   "cell_type": "code",
   "execution_count": 6,
   "id": "428bbc23",
   "metadata": {},
   "outputs": [
    {
     "data": {
      "text/plain": [
       "False"
      ]
     },
     "execution_count": 6,
     "metadata": {},
     "output_type": "execute_result"
    }
   ],
   "source": [
    "def isLeap(y):\n",
    "    if y%100 == 0:\n",
    "        y=y/100\n",
    "    if y%4 == 0:\n",
    "        return True\n",
    "    else:\n",
    "        return False\n",
    "\n",
    "isLeap(1800)"
   ]
  },
  {
   "cell_type": "markdown",
   "id": "8c9094cb",
   "metadata": {},
   "source": [
    "Create a function to calculate the nth Fibonacci number."
   ]
  },
  {
   "cell_type": "code",
   "execution_count": 7,
   "id": "fcaf7b60",
   "metadata": {},
   "outputs": [
    {
     "data": {
      "text/plain": [
       "8"
      ]
     },
     "execution_count": 7,
     "metadata": {},
     "output_type": "execute_result"
    }
   ],
   "source": [
    "def fib(n):\n",
    "    lst=[0,1]\n",
    "    for i in range(n):\n",
    "        lst.append(lst[-1]+lst[-2])\n",
    "    return lst[n-1]\n",
    "\n",
    "fib(7)"
   ]
  },
  {
   "cell_type": "markdown",
   "id": "016abc9a",
   "metadata": {},
   "source": [
    "Implement a basic calculator that performs addition, subtraction, multiplication, and\n",
    "division based on user input."
   ]
  },
  {
   "cell_type": "code",
   "execution_count": 8,
   "id": "f92f72f9",
   "metadata": {},
   "outputs": [
    {
     "name": "stdout",
     "output_type": "stream",
     "text": [
      "2 + 3 = 5\n",
      "2 - 3 = -1\n",
      "2 / 3 = 0.6666666666666666\n",
      "2 x 3 = 6\n"
     ]
    }
   ],
   "source": [
    "def basic_Cal(a,b):\n",
    "    print(a, '+', b, '=', a+b)\n",
    "    print(a, '-', b, '=', a-b)\n",
    "    print(a, '/', b, '=', a/b)\n",
    "    print(a, 'x', b, '=', a*b)    \n",
    "\n",
    "basic_Cal(2,3)"
   ]
  },
  {
   "cell_type": "markdown",
   "id": "ebe8c5b1",
   "metadata": {},
   "source": [
    "Generate a multiplication table for a number provided by the user"
   ]
  },
  {
   "cell_type": "code",
   "execution_count": 9,
   "id": "6b7ce454",
   "metadata": {},
   "outputs": [
    {
     "name": "stdout",
     "output_type": "stream",
     "text": [
      "12 x 1 = 12\n",
      "12 x 2 = 24\n",
      "12 x 3 = 36\n",
      "12 x 4 = 48\n",
      "12 x 5 = 60\n",
      "12 x 6 = 72\n",
      "12 x 7 = 84\n",
      "12 x 8 = 96\n",
      "12 x 9 = 108\n",
      "12 x 10 = 120\n",
      "12 x 11 = 132\n",
      "12 x 12 = 144\n"
     ]
    }
   ],
   "source": [
    "def table(num):\n",
    "    for i in range(1,13):\n",
    "        print(num ,'x', i ,'=', i*num)\n",
    "\n",
    "table(12)"
   ]
  },
  {
   "cell_type": "code",
   "execution_count": 10,
   "id": "f61653aa",
   "metadata": {},
   "outputs": [
    {
     "name": "stdout",
     "output_type": "stream",
     "text": [
      "14 x 1 = 14\n",
      "14 x 2 = 28\n",
      "14 x 3 = 42\n",
      "14 x 4 = 56\n",
      "14 x 5 = 70\n",
      "14 x 6 = 84\n",
      "14 x 7 = 98\n",
      "14 x 8 = 112\n",
      "14 x 9 = 126\n",
      "14 x 10 = 140\n",
      "14 x 11 = 154\n",
      "14 x 12 = 168\n"
     ]
    }
   ],
   "source": [
    "# using the f string \n",
    "def table2(num):\n",
    "    for i in range(1,13):\n",
    "        print(f'{num} x {i} = {num*i}')\n",
    "\n",
    "table2(14)"
   ]
  },
  {
   "cell_type": "code",
   "execution_count": 11,
   "id": "0da41daf",
   "metadata": {},
   "outputs": [
    {
     "name": "stdout",
     "output_type": "stream",
     "text": [
      "18 x 1 = 18\n",
      "18 x 2 = 36\n",
      "18 x 3 = 54\n",
      "18 x 4 = 72\n",
      "18 x 5 = 90\n",
      "18 x 6 = 108\n",
      "18 x 7 = 126\n",
      "18 x 8 = 144\n",
      "18 x 9 = 162\n",
      "18 x 10 = 180\n",
      "18 x 11 = 198\n",
      "18 x 12 = 216\n"
     ]
    }
   ],
   "source": [
    "# using  the format function \n",
    "def table3(num):\n",
    "    for i in range(1,13):\n",
    "        res='{} x {} = {}'.format(num,i,num*i)\n",
    "        print(res)\n",
    "\n",
    "table3(18)"
   ]
  },
  {
   "cell_type": "code",
   "execution_count": 12,
   "id": "0d3a8394",
   "metadata": {},
   "outputs": [
    {
     "name": "stdout",
     "output_type": "stream",
     "text": [
      "11 x 1 = 11\n",
      "11 x 2 = 22\n",
      "11 x 3 = 33\n",
      "11 x 4 = 44\n",
      "11 x 5 = 55\n",
      "11 x 6 = 66\n",
      "11 x 7 = 77\n",
      "11 x 8 = 88\n",
      "11 x 9 = 99\n",
      "11 x 10 = 110\n",
      "11 x 11 = 121\n",
      "11 x 12 = 132\n"
     ]
    }
   ],
   "source": [
    "# using Template strings from the string module\n",
    "from string import Template\n",
    "def table4(num):\n",
    "    res = Template('$num x $i = $prod')\n",
    "    for i in range(1,13):\n",
    "        print(res.substitute(num =num, i = i, prod = num*i))\n",
    "\n",
    "table4(11)"
   ]
  },
  {
   "cell_type": "markdown",
   "id": "adda93bc",
   "metadata": {},
   "source": [
    "Write a program to reverse a given integer."
   ]
  },
  {
   "cell_type": "code",
   "execution_count": 13,
   "id": "c850581c",
   "metadata": {},
   "outputs": [
    {
     "data": {
      "text/plain": [
       "'432'"
      ]
     },
     "execution_count": 13,
     "metadata": {},
     "output_type": "execute_result"
    }
   ],
   "source": [
    "def reverse(num):\n",
    "    num1=str(num)\n",
    "    return num1[::-1]\n",
    "\n",
    "reverse(234)"
   ]
  },
  {
   "cell_type": "markdown",
   "id": "2d38d722",
   "metadata": {},
   "source": [
    "Level 3: Advanced"
   ]
  },
  {
   "cell_type": "markdown",
   "id": "8eda89c6",
   "metadata": {},
   "source": [
    "Create a function to calculate the factorial of a number using recursion."
   ]
  },
  {
   "cell_type": "code",
   "execution_count": 14,
   "id": "3f0bce67",
   "metadata": {},
   "outputs": [
    {
     "data": {
      "text/plain": [
       "479001600"
      ]
     },
     "execution_count": 14,
     "metadata": {},
     "output_type": "execute_result"
    }
   ],
   "source": [
    "def fact(n):\n",
    "    res = 1\n",
    "    if n>0 and n == int(n):\n",
    "        for i in range(1,n+1):\n",
    "            res*=i\n",
    "        return res\n",
    "    if n == 0:\n",
    "        return 1\n",
    "\n",
    "fact(12)"
   ]
  },
  {
   "cell_type": "markdown",
   "id": "cf244acb",
   "metadata": {},
   "source": [
    "Implement a function that checks whether a string is a palindrome."
   ]
  },
  {
   "cell_type": "code",
   "execution_count": 15,
   "id": "ba8cc863",
   "metadata": {},
   "outputs": [
    {
     "data": {
      "text/plain": [
       "True"
      ]
     },
     "execution_count": 15,
     "metadata": {},
     "output_type": "execute_result"
    }
   ],
   "source": [
    "def isPalindrome(val):\n",
    "    return reverse(val)==val\n",
    "\n",
    "isPalindrome('madam')"
   ]
  },
  {
   "cell_type": "markdown",
   "id": "a4f95a84",
   "metadata": {},
   "source": [
    "Write a program to find the sum of all multiples of 3 and 5 below a user-specified\n",
    "number."
   ]
  },
  {
   "cell_type": "code",
   "execution_count": 16,
   "id": "6961ee39",
   "metadata": {},
   "outputs": [
    {
     "data": {
      "text/plain": [
       "73440"
      ]
     },
     "execution_count": 16,
     "metadata": {},
     "output_type": "execute_result"
    }
   ],
   "source": [
    "def multiple(num):\n",
    "    lst3=[]\n",
    "    lst5=[]\n",
    "    for i in range(1,num+1):\n",
    "        lst3.append(3*i)\n",
    "        lst5.append(5*i)\n",
    "    return sum(lst3)+sum(lst5)\n",
    "\n",
    "#example\n",
    "multiple(135)"
   ]
  },
  {
   "cell_type": "code",
   "execution_count": 17,
   "id": "ef338c8a",
   "metadata": {},
   "outputs": [
    {
     "data": {
      "text/plain": [
       "98"
      ]
     },
     "execution_count": 17,
     "metadata": {},
     "output_type": "execute_result"
    }
   ],
   "source": [
    "#correction\n",
    "def multiples(num):\n",
    "    lst3=[i*3 for i in range(1,(num//3)+1)]\n",
    "    lst5=[i*5 for i in range(1,(num//5)+1) if i not in lst3]\n",
    "    return sum(lst3) + sum(lst5)\n",
    "multiples(20)"
   ]
  },
  {
   "cell_type": "markdown",
   "id": "26153f62",
   "metadata": {},
   "source": [
    "Create a function to find the greatest common divisor (GCD) of two numbers."
   ]
  },
  {
   "cell_type": "code",
   "execution_count": 18,
   "id": "df9da915",
   "metadata": {},
   "outputs": [
    {
     "data": {
      "text/plain": [
       "40"
      ]
     },
     "execution_count": 18,
     "metadata": {},
     "output_type": "execute_result"
    }
   ],
   "source": [
    "def gcd(x,y):\n",
    "    divisors=[]\n",
    "    for i in range(1,x+1):\n",
    "        if x%i == 0 and y%i ==0:\n",
    "            divisors.append(i)\n",
    "    return max(divisors)\n",
    "\n",
    "gcd(200,240)"
   ]
  },
  {
   "cell_type": "markdown",
   "id": "7201d9ee",
   "metadata": {},
   "source": [
    "Implement a number guessing game where the computer selects a random number\n",
    "between 1 and 100, and the user has to guess it."
   ]
  },
  {
   "cell_type": "code",
   "execution_count": 19,
   "id": "ca7cd2a7",
   "metadata": {},
   "outputs": [
    {
     "data": {
      "text/plain": [
       "75"
      ]
     },
     "execution_count": 19,
     "metadata": {},
     "output_type": "execute_result"
    }
   ],
   "source": [
    "import random\n",
    "random.randrange(100)\n"
   ]
  },
  {
   "cell_type": "code",
   "execution_count": 20,
   "id": "befe288d",
   "metadata": {},
   "outputs": [],
   "source": [
    "import random\n",
    "def guess():\n",
    "    guess=input('Enter your guess:')\n",
    "    val = random.randrange(100)\n",
    "    return int(guess) == val"
   ]
  },
  {
   "cell_type": "code",
   "execution_count": 21,
   "id": "b5fd054f",
   "metadata": {},
   "outputs": [
    {
     "name": "stdout",
     "output_type": "stream",
     "text": [
      "Enter your guess:66\n"
     ]
    },
    {
     "data": {
      "text/plain": [
       "False"
      ]
     },
     "execution_count": 21,
     "metadata": {},
     "output_type": "execute_result"
    }
   ],
   "source": [
    "guess()"
   ]
  },
  {
   "cell_type": "markdown",
   "id": "9917433b",
   "metadata": {},
   "source": [
    "# 2. Number Theory and Basic Math Problems\n",
    "Level 1: Easy"
   ]
  },
  {
   "cell_type": "markdown",
   "id": "0108756a",
   "metadata": {},
   "source": [
    "Write a program to check if a number is prime."
   ]
  },
  {
   "cell_type": "code",
   "execution_count": 22,
   "id": "ed2f17eb",
   "metadata": {},
   "outputs": [
    {
     "data": {
      "text/plain": [
       "False"
      ]
     },
     "execution_count": 22,
     "metadata": {},
     "output_type": "execute_result"
    }
   ],
   "source": [
    "def isPrime(n):\n",
    "    if n < 2:\n",
    "        return False\n",
    "    elif n == 2:\n",
    "        return True\n",
    "    elif n>2:\n",
    "        for i in range(2,n):\n",
    "            if n%i == 0:\n",
    "                return False\n",
    "    return True\n",
    "\n",
    "isPrime(0)"
   ]
  },
  {
   "cell_type": "markdown",
   "id": "5484f42f",
   "metadata": {},
   "source": [
    "List all prime numbers up to a given limit."
   ]
  },
  {
   "cell_type": "code",
   "execution_count": 23,
   "id": "d7173f81",
   "metadata": {},
   "outputs": [
    {
     "data": {
      "text/plain": [
       "[2, 3, 5, 7]"
      ]
     },
     "execution_count": 23,
     "metadata": {},
     "output_type": "execute_result"
    }
   ],
   "source": [
    "def primeNo(num):\n",
    "    lst=[]\n",
    "    for i in range(num+1):\n",
    "        if isPrime(i) == True:\n",
    "            lst.append(i)\n",
    "    return lst\n",
    "\n",
    "primeNo(9)"
   ]
  },
  {
   "cell_type": "markdown",
   "id": "09fb8560",
   "metadata": {},
   "source": [
    "Find the sum of the digits of a user-inputted number."
   ]
  },
  {
   "cell_type": "code",
   "execution_count": 24,
   "id": "20d57351",
   "metadata": {},
   "outputs": [
    {
     "data": {
      "text/plain": [
       "15"
      ]
     },
     "execution_count": 24,
     "metadata": {},
     "output_type": "execute_result"
    }
   ],
   "source": [
    "def SUM(num):\n",
    "    num1=str(num)\n",
    "    res=0\n",
    "    for i in num1:\n",
    "        res+=int(i)\n",
    "    return res\n",
    "\n",
    "SUM(3345)"
   ]
  },
  {
   "cell_type": "markdown",
   "id": "71572f14",
   "metadata": {},
   "source": [
    "Check if a number is even or odd."
   ]
  },
  {
   "cell_type": "code",
   "execution_count": 25,
   "id": "d1690430",
   "metadata": {},
   "outputs": [
    {
     "data": {
      "text/plain": [
       "True"
      ]
     },
     "execution_count": 25,
     "metadata": {},
     "output_type": "execute_result"
    }
   ],
   "source": [
    "def isEven(num):\n",
    "    if num%2 == 0:\n",
    "        return True\n",
    "    else: \n",
    "        False\n",
    "        \n",
    "isEven(66)"
   ]
  },
  {
   "cell_type": "markdown",
   "id": "352415ce",
   "metadata": {},
   "source": [
    "Write a program to count the number of factors a number has."
   ]
  },
  {
   "cell_type": "code",
   "execution_count": 139,
   "id": "d83f801b",
   "metadata": {},
   "outputs": [
    {
     "data": {
      "text/plain": [
       "294"
      ]
     },
     "execution_count": 139,
     "metadata": {},
     "output_type": "execute_result"
    }
   ],
   "source": [
    "def count_factors(num):\n",
    "    lst=[]\n",
    "    n=0\n",
    "    for i in range(1,num+1):\n",
    "        if num%i == 0:\n",
    "            n+=1\n",
    "    return n\n",
    "\n",
    "count_factors(99000000)"
   ]
  },
  {
   "cell_type": "code",
   "execution_count": 27,
   "id": "2ba9f83b",
   "metadata": {},
   "outputs": [
    {
     "data": {
      "text/plain": [
       "294"
      ]
     },
     "execution_count": 27,
     "metadata": {},
     "output_type": "execute_result"
    }
   ],
   "source": [
    "def count_factors2(num):\n",
    "    lst=[]\n",
    "    n=0\n",
    "    for i in range(1,int(num**0.5)+1):\n",
    "        if num%i == 0:\n",
    "            n+=2 if i*i != num else 1\n",
    "    return n\n",
    "\n",
    "count_factors2(99000000)"
   ]
  },
  {
   "cell_type": "markdown",
   "id": "f6c23d0f",
   "metadata": {},
   "source": [
    "Level 2: Intermediate"
   ]
  },
  {
   "cell_type": "markdown",
   "id": "595521cf",
   "metadata": {},
   "source": [
    "Write a function to calculate the LCM of two numbers."
   ]
  },
  {
   "cell_type": "code",
   "execution_count": 28,
   "id": "a5e29d42",
   "metadata": {},
   "outputs": [
    {
     "data": {
      "text/plain": [
       "132"
      ]
     },
     "execution_count": 28,
     "metadata": {},
     "output_type": "execute_result"
    }
   ],
   "source": [
    "def LCM(x,y):\n",
    "    lst=[]\n",
    "    for i in range(1,x+1):\n",
    "        if x%i == 0 and y%i == 0:\n",
    "            lst.append(i)\n",
    "    return (x*y)//max(lst)\n",
    "\n",
    "LCM(44,6)"
   ]
  },
  {
   "cell_type": "markdown",
   "id": "bdddd14d",
   "metadata": {},
   "source": [
    "Create a program to find all pairs of numbers in a list that add up to a specified sum."
   ]
  },
  {
   "cell_type": "code",
   "execution_count": 29,
   "id": "7a719c1f",
   "metadata": {},
   "outputs": [
    {
     "data": {
      "text/plain": [
       "[[1, 5], [4, 2], [6, 0], [5, 1], [2, 4], [0, 6]]"
      ]
     },
     "execution_count": 29,
     "metadata": {},
     "output_type": "execute_result"
    }
   ],
   "source": [
    "def pairSum(lst,num):\n",
    "    res=[]\n",
    "    for el in lst:\n",
    "        for el2 in lst:\n",
    "            if el + el2 == num and el != el2:\n",
    "                res.append([el,el2])\n",
    "    return res\n",
    "\n",
    "pairSum([1,4,6,8,3,5,2,8,3,9,0,3],6)\n",
    "    "
   ]
  },
  {
   "cell_type": "code",
   "execution_count": 30,
   "id": "c107cce7",
   "metadata": {},
   "outputs": [
    {
     "data": {
      "text/plain": [
       "[[1, 5], [4, 2], [6, 0]]"
      ]
     },
     "execution_count": 30,
     "metadata": {},
     "output_type": "execute_result"
    }
   ],
   "source": [
    "def pairSum2(lst,num):\n",
    "    pair=[]\n",
    "    res=[]\n",
    "    for el in lst:\n",
    "        for el2 in lst:\n",
    "            if el + el2 == num and el != el2:\n",
    "                pair = [el, el2]\n",
    "                # to remove repitition\n",
    "                if pair[::-1] not in res:\n",
    "                    res.append(pair)\n",
    "    return res\n",
    "\n",
    "pairSum2([1,4,6,8,3,5,2,8,3,9,0,3],6)\n",
    "    "
   ]
  },
  {
   "cell_type": "markdown",
   "id": "484a8350",
   "metadata": {},
   "source": [
    "Generate the first n prime numbers (where n is provided by the user)."
   ]
  },
  {
   "cell_type": "code",
   "execution_count": 31,
   "id": "679f0d7c",
   "metadata": {},
   "outputs": [
    {
     "data": {
      "text/plain": [
       "[2, 3, 5, 7, 11, 13, 17, 19, 23, 29]"
      ]
     },
     "execution_count": 31,
     "metadata": {},
     "output_type": "execute_result"
    }
   ],
   "source": [
    "def nth_Prime(n):\n",
    "    num = 2\n",
    "    lst1=[]\n",
    "    while len(lst1) < n:\n",
    "        if isPrime(num) == True:\n",
    "            lst1.append(num)\n",
    "        num+=1\n",
    "    return lst1\n",
    "\n",
    "nth_Prime(10)"
   ]
  },
  {
   "cell_type": "markdown",
   "id": "c580f7ac",
   "metadata": {},
   "source": [
    "Find the nth term of an arithmetic sequence given the first term and common\n",
    "difference."
   ]
  },
  {
   "cell_type": "code",
   "execution_count": 32,
   "id": "efe42564",
   "metadata": {},
   "outputs": [
    {
     "data": {
      "text/plain": [
       "14"
      ]
     },
     "execution_count": 32,
     "metadata": {},
     "output_type": "execute_result"
    }
   ],
   "source": [
    "def AP(a,d,n):\n",
    "    for i in range(n-1):\n",
    "        a+=d\n",
    "    return a\n",
    "\n",
    "AP(2,3,5)"
   ]
  },
  {
   "cell_type": "code",
   "execution_count": 33,
   "id": "cc4fde87",
   "metadata": {},
   "outputs": [
    {
     "data": {
      "text/plain": [
       "14"
      ]
     },
     "execution_count": 33,
     "metadata": {},
     "output_type": "execute_result"
    }
   ],
   "source": [
    "def AP2(a,d,n):\n",
    "    return a + (n-1)*d\n",
    "\n",
    "AP2(2,3,5)"
   ]
  },
  {
   "cell_type": "markdown",
   "id": "387e2924",
   "metadata": {},
   "source": [
    "Implement a function to generate a list of all perfect squares less than a given number"
   ]
  },
  {
   "cell_type": "code",
   "execution_count": 34,
   "id": "bd556e0d",
   "metadata": {},
   "outputs": [
    {
     "data": {
      "text/plain": [
       "[0, 1, 4, 9, 16, 25, 36, 49, 64, 81, 100, 121, 144]"
      ]
     },
     "execution_count": 34,
     "metadata": {},
     "output_type": "execute_result"
    }
   ],
   "source": [
    "def perfect_square(n):\n",
    "    lst=[]\n",
    "    for i in range(int(n**0.5)+1):\n",
    "        lst.append(i**2)\n",
    "    return lst\n",
    "\n",
    "perfect_square(150)"
   ]
  },
  {
   "cell_type": "markdown",
   "id": "b9601aeb",
   "metadata": {},
   "source": [
    "Level 3: Advanced"
   ]
  },
  {
   "cell_type": "markdown",
   "id": "86bc70fd",
   "metadata": {},
   "source": [
    "Create a function that returns all prime factors of a given number"
   ]
  },
  {
   "cell_type": "code",
   "execution_count": 35,
   "id": "12125736",
   "metadata": {
    "scrolled": true
   },
   "outputs": [
    {
     "data": {
      "text/plain": [
       "[2, 3]"
      ]
     },
     "execution_count": 35,
     "metadata": {},
     "output_type": "execute_result"
    }
   ],
   "source": [
    "def Prime_factors(num):\n",
    "    lst=[]\n",
    "    for i in range(1,num+1):\n",
    "        if isPrime(i) == True:\n",
    "            lst.append(i)\n",
    "    return [i for i in lst if num%i ==0]\n",
    "\n",
    "Prime_factors(24)\n",
    "        "
   ]
  },
  {
   "cell_type": "markdown",
   "id": "474416d7",
   "metadata": {},
   "source": [
    "Implement a program to generate the Collatz sequence for a given number"
   ]
  },
  {
   "cell_type": "code",
   "execution_count": 36,
   "id": "7e8f1a5e",
   "metadata": {},
   "outputs": [],
   "source": [
    "def Collatz(num):\n",
    "    if num%2 == 0:\n",
    "        return num//2\n",
    "    else:\n",
    "        return num*3 + 1\n",
    "\n",
    "#Collatz(50)"
   ]
  },
  {
   "cell_type": "code",
   "execution_count": 37,
   "id": "7da99b48",
   "metadata": {},
   "outputs": [
    {
     "data": {
      "text/plain": [
       "[6, 3, 10, 5, 16, 8, 4, 2, 1]"
      ]
     },
     "execution_count": 37,
     "metadata": {},
     "output_type": "execute_result"
    }
   ],
   "source": [
    "def Collatz_sequence(num):\n",
    "    lst=[num]\n",
    "    while num != 1:\n",
    "        lst.append(Collatz(num))\n",
    "        num = Collatz(num)\n",
    "    return lst\n",
    "\n",
    "Collatz_sequence(6)"
   ]
  },
  {
   "cell_type": "markdown",
   "id": "ba89ef80",
   "metadata": {},
   "source": [
    "Find all Pythagorean triplets (a, b, c) i.e. $ a^2 + b^2 = c^2 $"
   ]
  },
  {
   "cell_type": "code",
   "execution_count": 38,
   "id": "c4db9129",
   "metadata": {},
   "outputs": [
    {
     "name": "stdout",
     "output_type": "stream",
     "text": [
      "[[3, 4, 5], [4, 3, 5], [5, 12, 13], [6, 8, 10], [7, 24, 25], [8, 6, 10], [8, 15, 17], [9, 12, 15], [9, 40, 41], [10, 24, 26], [11, 60, 61], [12, 5, 13], [12, 9, 15], [12, 16, 20], [12, 35, 37], [13, 84, 85], [14, 48, 50], [15, 8, 17], [15, 20, 25], [15, 36, 39], [16, 12, 20], [16, 30, 34], [16, 63, 65], [18, 24, 30], [18, 80, 82], [20, 15, 25], [20, 21, 29], [20, 48, 52], [21, 20, 29], [21, 28, 35], [21, 72, 75], [24, 7, 25], [24, 10, 26], [24, 18, 30], [24, 32, 40], [24, 45, 51], [24, 70, 74], [25, 60, 65], [27, 36, 45], [28, 21, 35], [28, 45, 53], [30, 16, 34], [30, 40, 50], [30, 72, 78], [32, 24, 40], [32, 60, 68], [33, 44, 55], [33, 56, 65], [35, 12, 37], [35, 84, 91], [36, 15, 39], [36, 27, 45], [36, 48, 60], [36, 77, 85], [39, 52, 65], [39, 80, 89], [40, 9, 41], [40, 30, 50], [40, 42, 58], [40, 75, 85], [42, 40, 58], [42, 56, 70], [44, 33, 55], [45, 24, 51], [45, 28, 53], [45, 60, 75], [48, 14, 50], [48, 20, 52], [48, 36, 60], [48, 55, 73], [48, 64, 80], [51, 68, 85], [52, 39, 65], [54, 72, 90], [55, 48, 73], [56, 33, 65], [56, 42, 70], [57, 76, 95], [60, 11, 61], [60, 25, 65], [60, 32, 68], [60, 45, 75], [60, 63, 87], [63, 16, 65], [63, 60, 87], [64, 48, 80], [65, 72, 97], [68, 51, 85], [70, 24, 74], [72, 21, 75], [72, 30, 78], [72, 54, 90], [72, 65, 97], [75, 40, 85], [76, 57, 95], [77, 36, 85], [80, 18, 82], [80, 39, 89], [84, 13, 85], [84, 35, 91]]\n"
     ]
    }
   ],
   "source": [
    "Pythagorean_triplets=[]\n",
    "for a in range(1,100):\n",
    "    for b in range(1,100):\n",
    "        for c in range(1,100):\n",
    "            if a**2 + b**2 == c**2:\n",
    "                Pythagorean_triplets.append([a,b,c])\n",
    "print(Pythagorean_triplets)"
   ]
  },
  {
   "cell_type": "code",
   "execution_count": 39,
   "id": "983c7477",
   "metadata": {},
   "outputs": [
    {
     "name": "stdout",
     "output_type": "stream",
     "text": [
      "[[3, 4, 5], [5, 12, 13], [6, 8, 10], [7, 24, 25], [8, 15, 17], [9, 12, 15], [9, 40, 41], [10, 24, 26], [11, 60, 61], [12, 16, 20], [12, 35, 37], [13, 84, 85], [14, 48, 50], [15, 20, 25], [15, 36, 39], [16, 30, 34], [16, 63, 65], [18, 24, 30], [18, 80, 82], [20, 21, 29], [20, 48, 52], [21, 28, 35], [21, 72, 75], [24, 32, 40], [24, 45, 51], [24, 70, 74], [25, 60, 65], [27, 36, 45], [28, 45, 53], [30, 40, 50], [30, 72, 78], [32, 60, 68], [33, 44, 55], [33, 56, 65], [35, 84, 91], [36, 48, 60], [36, 77, 85], [39, 52, 65], [39, 80, 89], [40, 42, 58], [40, 75, 85], [42, 56, 70], [45, 60, 75], [48, 55, 73], [48, 64, 80], [51, 68, 85], [54, 72, 90], [57, 76, 95], [60, 63, 87], [65, 72, 97]]\n"
     ]
    }
   ],
   "source": [
    "Pythagorean_triplets2=[]\n",
    "for a in range(1,100):\n",
    "    for b in range(1,100):\n",
    "        for c in range(1,100):\n",
    "            if a**2 + b**2 == c**2 and a < b:\n",
    "                pair=[a,b,c]\n",
    "                Pythagorean_triplets2.append(pair)\n",
    "print(Pythagorean_triplets2)"
   ]
  },
  {
   "cell_type": "markdown",
   "id": "00d3abb3",
   "metadata": {},
   "source": [
    "Create a program to find the sum of all divisors of a given number"
   ]
  },
  {
   "cell_type": "code",
   "execution_count": 40,
   "id": "b116b251",
   "metadata": {},
   "outputs": [
    {
     "data": {
      "text/plain": [
       "12"
      ]
     },
     "execution_count": 40,
     "metadata": {},
     "output_type": "execute_result"
    }
   ],
   "source": [
    "def sum_divisors(num):\n",
    "    lst=[]\n",
    "    for i in range(1, num+1):\n",
    "        if num%i==0:\n",
    "            lst.append(i)\n",
    "    return sum(lst)\n",
    "\n",
    "sum_divisors(6)"
   ]
  },
  {
   "cell_type": "markdown",
   "id": "d3eafd81",
   "metadata": {},
   "source": [
    "Write a function that returns the nth term of the Fibonacci sequence using dynamic\n",
    "programming."
   ]
  },
  {
   "cell_type": "code",
   "execution_count": 41,
   "id": "9f479b5c",
   "metadata": {},
   "outputs": [
    {
     "data": {
      "text/plain": [
       "3"
      ]
     },
     "execution_count": 41,
     "metadata": {},
     "output_type": "execute_result"
    }
   ],
   "source": [
    "def fib(num):\n",
    "    lst=[0,1]\n",
    "    for i in range(num):\n",
    "        lst.append(lst[-1]+lst[-2])\n",
    "    return lst[num-1]\n",
    "\n",
    "fib(5)"
   ]
  },
  {
   "cell_type": "markdown",
   "id": "b995b3bf",
   "metadata": {},
   "source": [
    "# 3. Data Structures and Algorithms"
   ]
  },
  {
   "cell_type": "markdown",
   "id": "3690f6b4",
   "metadata": {},
   "source": [
    "Level 1: Easy"
   ]
  },
  {
   "cell_type": "markdown",
   "id": "b80b8b59",
   "metadata": {},
   "source": [
    "Write a program to find the maximum and minimum elements in a list."
   ]
  },
  {
   "cell_type": "code",
   "execution_count": 42,
   "id": "f91d2995",
   "metadata": {},
   "outputs": [
    {
     "data": {
      "text/plain": [
       "(-8, 112)"
      ]
     },
     "execution_count": 42,
     "metadata": {},
     "output_type": "execute_result"
    }
   ],
   "source": [
    "def Min_max(lst):\n",
    "    return min(lst), max(lst)\n",
    "\n",
    "Min_max([1,3,5,6,1,9,78,-3,23,112,-8])"
   ]
  },
  {
   "cell_type": "markdown",
   "id": "ef3310b5",
   "metadata": {},
   "source": [
    " Create a list of numbers and print their squares using a list comprehension."
   ]
  },
  {
   "cell_type": "code",
   "execution_count": 43,
   "id": "dba136f8",
   "metadata": {},
   "outputs": [
    {
     "data": {
      "text/plain": [
       "[4, 64, 81, 25, 144, 4489, 64, 3136]"
      ]
     },
     "execution_count": 43,
     "metadata": {},
     "output_type": "execute_result"
    }
   ],
   "source": [
    "A=[2,8,9,5,12,67,8,56]\n",
    "[i**2 for i in A]"
   ]
  },
  {
   "cell_type": "markdown",
   "id": "f50b7e38",
   "metadata": {},
   "source": [
    "Count the number of occurrences of a specific element in a list."
   ]
  },
  {
   "cell_type": "code",
   "execution_count": 44,
   "id": "69bc1729",
   "metadata": {},
   "outputs": [
    {
     "name": "stdout",
     "output_type": "stream",
     "text": [
      "Elements: [1, 4, 2, 6, 3, 5] \n",
      "Frequency: [3, 5, 4, 4, 3, 3]\n"
     ]
    }
   ],
   "source": [
    "def count_elements(lst):\n",
    "    unique_elements=[]\n",
    "    frequency=[]\n",
    "    for e in lst:\n",
    "        if e not in unique_elements:\n",
    "            unique_elements.append(e)\n",
    "    for i in unique_elements:\n",
    "        frequency.append(lst.count(i))\n",
    "    print('Elements:',unique_elements,'\\nFrequency:',frequency)\n",
    "\n",
    "    \n",
    "count_elements([1,4,2,6,4,3,2,4,5,6,3,5,6,1,3,4,1,2,4,5,6,2])"
   ]
  },
  {
   "cell_type": "code",
   "execution_count": 45,
   "id": "4e9a6137",
   "metadata": {},
   "outputs": [
    {
     "data": {
      "text/plain": [
       "{0: 1, 1: 5, 2: 6, 3: 5, 4: 8, 5: 6, 6: 5, 7: 2, 8: 2, 9: 1}"
      ]
     },
     "execution_count": 45,
     "metadata": {},
     "output_type": "execute_result"
    }
   ],
   "source": [
    "# sorted data and printed in a dictionary\n",
    "def count_elements2(lst):\n",
    "    num_elements={}\n",
    "    unique_elements=[]\n",
    "    for e in lst:\n",
    "        if e not in unique_elements:\n",
    "            unique_elements.append(e)\n",
    "            \n",
    "    sort_unique_elements=sorted(unique_elements)\n",
    "    \n",
    "    for i in sort_unique_elements:\n",
    "        num_elements.update({i: lst.count(i)})\n",
    "    return num_elements\n",
    "\n",
    "count_elements2([1,4,2,6,4,3,2,4,5,6,3,5,6,4,5,6,7,8,1,2,3,4,5,7,8,9,0,1,3,4,5,2,1,3,4,1,2,4,5,6,2])"
   ]
  },
  {
   "cell_type": "markdown",
   "id": "de281432",
   "metadata": {},
   "source": [
    "Given a list of numbers, find their average."
   ]
  },
  {
   "cell_type": "code",
   "execution_count": 46,
   "id": "fda16c05",
   "metadata": {},
   "outputs": [
    {
     "data": {
      "text/plain": [
       "4.166666666666667"
      ]
     },
     "execution_count": 46,
     "metadata": {},
     "output_type": "execute_result"
    }
   ],
   "source": [
    "def average(lst):\n",
    "    return sum(lst)/len(lst)\n",
    "\n",
    "average([1,2,4,5,6,7])"
   ]
  },
  {
   "cell_type": "markdown",
   "id": "8e9df9c9",
   "metadata": {},
   "source": [
    "Write a program to merge two lists and sort the result."
   ]
  },
  {
   "cell_type": "code",
   "execution_count": 47,
   "id": "4c3b9ca8",
   "metadata": {},
   "outputs": [
    {
     "data": {
      "text/plain": [
       "[1, 2, 3, 4, 5, 6, 8, 7]"
      ]
     },
     "execution_count": 47,
     "metadata": {},
     "output_type": "execute_result"
    }
   ],
   "source": [
    "def Merge(lst1,lst2):\n",
    "    for el in lst2:\n",
    "        if el not in lst1:\n",
    "            lst1.append(el)\n",
    "    return lst1\n",
    "\n",
    "Merge([1,2,3,4],[1,3,4,5,6,8,7])"
   ]
  },
  {
   "cell_type": "code",
   "execution_count": 48,
   "id": "70e40b30",
   "metadata": {},
   "outputs": [
    {
     "data": {
      "text/plain": [
       "[1, 2, 2, 3, 4, 4, 5, 7, 9]"
      ]
     },
     "execution_count": 48,
     "metadata": {},
     "output_type": "execute_result"
    }
   ],
   "source": [
    "def Merge2(lst1,lst2):\n",
    "    return sorted(lst1+lst2)\n",
    "\n",
    "Merge2([1,2,4,5],[7,9,2,3,4])"
   ]
  },
  {
   "cell_type": "code",
   "execution_count": 49,
   "id": "22c1f600",
   "metadata": {},
   "outputs": [
    {
     "data": {
      "text/plain": [
       "[1, 2, 2, 3, 4, 4, 5, 7, 9]"
      ]
     },
     "execution_count": 49,
     "metadata": {},
     "output_type": "execute_result"
    }
   ],
   "source": [
    "def Merge3(lst1,lst2):\n",
    "    lst2.extend(lst1)\n",
    "    return sorted(lst2)\n",
    "\n",
    "Merge3([1,2,4,5],[7,9,2,3,4])"
   ]
  },
  {
   "cell_type": "markdown",
   "id": "662145a2",
   "metadata": {},
   "source": [
    "Level 2: Intermediate"
   ]
  },
  {
   "cell_type": "markdown",
   "id": "9ba550a7",
   "metadata": {},
   "source": [
    "Implement a function to find the intersection of two lists."
   ]
  },
  {
   "cell_type": "code",
   "execution_count": 50,
   "id": "a84f7324",
   "metadata": {},
   "outputs": [
    {
     "data": {
      "text/plain": [
       "[1, 3, 4]"
      ]
     },
     "execution_count": 50,
     "metadata": {},
     "output_type": "execute_result"
    }
   ],
   "source": [
    "def intersection(lst1,lst2):\n",
    "    common=[]\n",
    "    for a in lst1:\n",
    "        for b in lst2:\n",
    "            if a == b:\n",
    "                common.append(a)\n",
    "    return common\n",
    "\n",
    "intersection([1,2,3,4],[1,3,4,5,6,8,7])"
   ]
  },
  {
   "cell_type": "code",
   "execution_count": 51,
   "id": "855dcbf7",
   "metadata": {},
   "outputs": [
    {
     "data": {
      "text/plain": [
       "[1, 3, 4]"
      ]
     },
     "execution_count": 51,
     "metadata": {},
     "output_type": "execute_result"
    }
   ],
   "source": [
    "def intersection3(lst1,lst2):\n",
    "    common=[]\n",
    "    for a in lst1:\n",
    "        if a in lst2:\n",
    "            common.append(a)\n",
    "    return common\n",
    "\n",
    "intersection3([1,2,3,4],[1,3,4,5,6,8,7])"
   ]
  },
  {
   "cell_type": "code",
   "execution_count": 52,
   "id": "3d49634c",
   "metadata": {},
   "outputs": [
    {
     "data": {
      "text/plain": [
       "[1, 3, 4]"
      ]
     },
     "execution_count": 52,
     "metadata": {},
     "output_type": "execute_result"
    }
   ],
   "source": [
    "# using list comprehension \n",
    "\n",
    "def intersection2(lst1,lst2):\n",
    "    return [i for i in lst1 if i in lst2]\n",
    "\n",
    "intersection2([1,2,3,4],[1,3,4,5,6,8,7])"
   ]
  },
  {
   "cell_type": "markdown",
   "id": "23374e68",
   "metadata": {},
   "source": [
    "Given a string, count the occurrences of each character using a dictionary"
   ]
  },
  {
   "cell_type": "code",
   "execution_count": 53,
   "id": "54e796c5",
   "metadata": {},
   "outputs": [
    {
     "data": {
      "text/plain": [
       "{'p': 1, 'l': 1, 'e': 1, 'a': 2, 's': 1, 'n': 1, 't': 1}"
      ]
     },
     "execution_count": 53,
     "metadata": {},
     "output_type": "execute_result"
    }
   ],
   "source": [
    "A = 'pleasant'\n",
    "dict_char={}\n",
    "for el in A:\n",
    "    if el not in dict_char:\n",
    "        dict_char.update({el : A.count(el)})\n",
    "dict_char"
   ]
  },
  {
   "cell_type": "code",
   "execution_count": 54,
   "id": "2146e515",
   "metadata": {},
   "outputs": [
    {
     "data": {
      "text/plain": [
       "{'a': 2, 'c': 2, 'o': 3, 'm': 2, 'd': 1, 't': 1, 'i': 1, 'n': 1}"
      ]
     },
     "execution_count": 54,
     "metadata": {},
     "output_type": "execute_result"
    }
   ],
   "source": [
    "def occurence(A):\n",
    "    dict_occurence={}\n",
    "    for i in A:\n",
    "        if i not in dict_occurence:\n",
    "            dict_occurence.update({i: A.count(i)})\n",
    "    return dict_occurence\n",
    "\n",
    "occurence('accommodation')"
   ]
  },
  {
   "cell_type": "markdown",
   "id": "78ef765e",
   "metadata": {},
   "source": [
    "Write a program to flatten a nested list "
   ]
  },
  {
   "cell_type": "code",
   "execution_count": 55,
   "id": "0c1e229a",
   "metadata": {},
   "outputs": [
    {
     "data": {
      "text/plain": [
       "[1, 2, -2, 5, 6, 2, 4, 8, 2, 4, 6]"
      ]
     },
     "execution_count": 55,
     "metadata": {},
     "output_type": "execute_result"
    }
   ],
   "source": [
    "def flatten(lst):\n",
    "    res_list=[]\n",
    "    for i in lst:\n",
    "        if isinstance(i,list):\n",
    "            res_list.extend(i)\n",
    "        else:\n",
    "            res_list.append(i)\n",
    "    return res_list\n",
    "\n",
    "flatten([1,2,[-2,5,6],2,4,8,[2,4,6]])"
   ]
  },
  {
   "cell_type": "code",
   "execution_count": 56,
   "id": "1b2c3c94",
   "metadata": {},
   "outputs": [
    {
     "data": {
      "text/plain": [
       "[1, 2, -2, 5, 5, 4, 6, 2, 4, 8, 2, 4, 6]"
      ]
     },
     "execution_count": 56,
     "metadata": {},
     "output_type": "execute_result"
    }
   ],
   "source": [
    "def flatten2(lst):\n",
    "    return [e for item in lst for e in (flatten2(item) if isinstance(item, list) else [item])]\n",
    "\n",
    "flatten2([1,2,[-2,5,5,4,6],2,4,8,[2,4,6]])"
   ]
  },
  {
   "cell_type": "markdown",
   "id": "0ed315e1",
   "metadata": {},
   "source": [
    "Implement a function to remove duplicates from a list."
   ]
  },
  {
   "cell_type": "code",
   "execution_count": 57,
   "id": "2cdbfa11",
   "metadata": {},
   "outputs": [
    {
     "data": {
      "text/plain": [
       "[1, 2, -2, 5, 4, 6, 8]"
      ]
     },
     "execution_count": 57,
     "metadata": {},
     "output_type": "execute_result"
    }
   ],
   "source": [
    "def unique_element(lst):\n",
    "    new_list=[]\n",
    "    for item in lst:\n",
    "        if item not in new_list:\n",
    "            new_list.append(item)\n",
    "    return new_list\n",
    "\n",
    "unique_element([1, 2, -2, 5, 5, 4, 6, 2, 4, 8, 2, 4, 6])"
   ]
  },
  {
   "cell_type": "markdown",
   "id": "10f1693d",
   "metadata": {},
   "source": [
    "Write a program to rotate a list to the right by n places."
   ]
  },
  {
   "cell_type": "code",
   "execution_count": 58,
   "id": "5168d2d1",
   "metadata": {},
   "outputs": [
    {
     "data": {
      "text/plain": [
       "[4, 5, 1, 2, 3]"
      ]
     },
     "execution_count": 58,
     "metadata": {},
     "output_type": "execute_result"
    }
   ],
   "source": [
    "def rotate_list(lst, n):\n",
    "    n = n % len(lst)\n",
    "    return lst[-n:] + lst[:-n]\n",
    "\n",
    "rotate_list([1, 2, 3, 4, 5],22)"
   ]
  },
  {
   "cell_type": "markdown",
   "id": "7aea809f",
   "metadata": {},
   "source": [
    "Level 3: Advanced"
   ]
  },
  {
   "cell_type": "markdown",
   "id": "6e3dd841",
   "metadata": {},
   "source": [
    "1. Implement a binary search on a sorted list"
   ]
  },
  {
   "cell_type": "code",
   "execution_count": 59,
   "id": "d26f66dc",
   "metadata": {},
   "outputs": [],
   "source": [
    "def Bin_search(lst,element):\n",
    "    start = 0\n",
    "    end = len(lst)-1\n",
    "    while start <= end:\n",
    "        mid = (start + end)//2\n",
    "        if lst[mid] == element:\n",
    "            return mid\n",
    "        elif lst[mid] < element:\n",
    "            start = mid + 1\n",
    "        else:\n",
    "            end = mid - 1\n",
    "    return -1\n",
    "\n"
   ]
  },
  {
   "cell_type": "code",
   "execution_count": 60,
   "id": "7630804d",
   "metadata": {},
   "outputs": [
    {
     "data": {
      "text/plain": [
       "1"
      ]
     },
     "execution_count": 60,
     "metadata": {},
     "output_type": "execute_result"
    }
   ],
   "source": [
    "Bin_search([1,2,3,4,5,6,7,8,9,10,11],2)"
   ]
  },
  {
   "cell_type": "markdown",
   "id": "e3656f2c",
   "metadata": {},
   "source": [
    "2. Create a program to check if a list is sorted in ascending order."
   ]
  },
  {
   "cell_type": "code",
   "execution_count": 61,
   "id": "5a6621c0",
   "metadata": {},
   "outputs": [
    {
     "data": {
      "text/plain": [
       "[1, 2, 2, 4, 6, 7, 8]"
      ]
     },
     "execution_count": 61,
     "metadata": {},
     "output_type": "execute_result"
    }
   ],
   "source": [
    "sorted([2,4,1,6,7,8,2])"
   ]
  },
  {
   "cell_type": "code",
   "execution_count": 62,
   "id": "e0d383be",
   "metadata": {},
   "outputs": [
    {
     "data": {
      "text/plain": [
       "False"
      ]
     },
     "execution_count": 62,
     "metadata": {},
     "output_type": "execute_result"
    }
   ],
   "source": [
    "#ascending order\n",
    "def is_sorted(lst):\n",
    "    return lst==sorted(lst)\n",
    "\n",
    "is_sorted([2,4,5,2,6])"
   ]
  },
  {
   "cell_type": "code",
   "execution_count": 63,
   "id": "41248099",
   "metadata": {},
   "outputs": [
    {
     "data": {
      "text/plain": [
       "[9, 6, 4, 3, 2, -1]"
      ]
     },
     "execution_count": 63,
     "metadata": {},
     "output_type": "execute_result"
    }
   ],
   "source": [
    "def arrange_descending(lst):\n",
    "    lst1=sorted(lst)\n",
    "    return lst1[::-1]\n",
    "\n",
    "arrange_descending([2,3,9,-1,4,6])"
   ]
  },
  {
   "cell_type": "markdown",
   "id": "e568af4c",
   "metadata": {},
   "source": [
    "Write a function that returns the longest increasing subsequence of a list of numbers."
   ]
  },
  {
   "cell_type": "code",
   "execution_count": null,
   "id": "fd8ddd89",
   "metadata": {},
   "outputs": [],
   "source": []
  },
  {
   "cell_type": "markdown",
   "id": "cd1e946f",
   "metadata": {},
   "source": [
    "Create a function to calculate the Cartesian product of two lists."
   ]
  },
  {
   "cell_type": "code",
   "execution_count": 64,
   "id": "ce09b8d5",
   "metadata": {},
   "outputs": [
    {
     "data": {
      "text/plain": [
       "[[1, 3], [1, 5], [1, 7], [2, 3], [2, 5], [2, 7], [3, 3], [3, 5], [3, 7]]"
      ]
     },
     "execution_count": 64,
     "metadata": {},
     "output_type": "execute_result"
    }
   ],
   "source": [
    "def cartesian_product(lst1,lst2):\n",
    "    prod=[]\n",
    "    for i in lst1:\n",
    "        for j in lst2:\n",
    "            prod.append([i,j])\n",
    "    return prod\n",
    "\n",
    "cartesian_product([1,2,3],[3,5,7])"
   ]
  },
  {
   "cell_type": "code",
   "execution_count": 65,
   "id": "4df896e5",
   "metadata": {},
   "outputs": [
    {
     "data": {
      "text/plain": [
       "[[1, 3], [1, 5], [1, 7], [2, 3], [2, 5], [2, 7], [3, 3], [3, 5], [3, 7]]"
      ]
     },
     "execution_count": 65,
     "metadata": {},
     "output_type": "execute_result"
    }
   ],
   "source": [
    "#for list comprehensive\n",
    "def cartesian_product2(lst1,lst2):\n",
    "    return [[i,j] for i in lst1 for j in lst2]\n",
    "\n",
    "\n",
    "cartesian_product2([1,2,3],[3,5,7])"
   ]
  },
  {
   "cell_type": "markdown",
   "id": "e97bff5a",
   "metadata": {},
   "source": [
    "Implement a function that returns all possible subsets of a list (the power set)."
   ]
  },
  {
   "cell_type": "code",
   "execution_count": 66,
   "id": "a05d0773",
   "metadata": {},
   "outputs": [
    {
     "data": {
      "text/plain": [
       "([[], [1], [2], [1, 2], [3], [1, 3], [2, 3], [1, 2, 3]],)"
      ]
     },
     "execution_count": 66,
     "metadata": {},
     "output_type": "execute_result"
    }
   ],
   "source": [
    "def power_set(s):\n",
    "    n = len(s)\n",
    "    total = 2**n\n",
    "    result = []\n",
    "    for i in range(total):\n",
    "        subset = [s[j] for j in range(n) if (i & (1 << j))]\n",
    "        result.append(subset)\n",
    "    return result,\n",
    "\n",
    "\n",
    "power_set([1,2,3])"
   ]
  },
  {
   "cell_type": "markdown",
   "id": "963de7da",
   "metadata": {},
   "source": [
    "# 4. Mathematical Problem-Solving and Logic"
   ]
  },
  {
   "cell_type": "markdown",
   "id": "2732a6db",
   "metadata": {},
   "source": [
    "Level 1: Easy"
   ]
  },
  {
   "cell_type": "markdown",
   "id": "04ca1e8d",
   "metadata": {},
   "source": [
    "Write a program to find the sum of the first n natural numbers."
   ]
  },
  {
   "cell_type": "code",
   "execution_count": 67,
   "id": "0243db8f",
   "metadata": {},
   "outputs": [
    {
     "data": {
      "text/plain": [
       "28"
      ]
     },
     "execution_count": 67,
     "metadata": {},
     "output_type": "execute_result"
    }
   ],
   "source": [
    "def nth_sum(limit):\n",
    "    A=0\n",
    "    for i in range(limit+1):\n",
    "        A+=i\n",
    "    return A\n",
    "\n",
    "nth_sum(7)"
   ]
  },
  {
   "cell_type": "code",
   "execution_count": 68,
   "id": "b368895f",
   "metadata": {},
   "outputs": [
    {
     "data": {
      "text/plain": [
       "28"
      ]
     },
     "execution_count": 68,
     "metadata": {},
     "output_type": "execute_result"
    }
   ],
   "source": [
    "#using formula\n",
    "def nth_sum2(n):\n",
    "    return n*(n+1)/2\n",
    "\n",
    "nth_sum(7)"
   ]
  },
  {
   "cell_type": "markdown",
   "id": "b5c36847",
   "metadata": {},
   "source": [
    "Calculate the sum of an arithmetic series given its first term, common difference, and number of terms."
   ]
  },
  {
   "cell_type": "code",
   "execution_count": 69,
   "id": "aca40c67",
   "metadata": {},
   "outputs": [
    {
     "data": {
      "text/plain": [
       "26"
      ]
     },
     "execution_count": 69,
     "metadata": {},
     "output_type": "execute_result"
    }
   ],
   "source": [
    "def sum_AP(a,d,n):\n",
    "    AP=[a]\n",
    "    for i in range(n-1):\n",
    "        a+=d\n",
    "        AP.append(a)\n",
    "    return sum(AP)\n",
    "\n",
    "sum_AP(2,3,4)"
   ]
  },
  {
   "cell_type": "code",
   "execution_count": 70,
   "id": "8765a962",
   "metadata": {},
   "outputs": [
    {
     "data": {
      "text/plain": [
       "26"
      ]
     },
     "execution_count": 70,
     "metadata": {},
     "output_type": "execute_result"
    }
   ],
   "source": [
    "#using AP seq formula\n",
    "def sum_AP2(a,d,n):\n",
    "    AP=[]\n",
    "    for i in range(n-1):\n",
    "        t = a + i*d\n",
    "        AP.append(a)\n",
    "    return (AP)\n",
    "\n",
    "sum_AP(2,3,4)"
   ]
  },
  {
   "cell_type": "code",
   "execution_count": 71,
   "id": "3b4b396a",
   "metadata": {},
   "outputs": [
    {
     "data": {
      "text/plain": [
       "26"
      ]
     },
     "execution_count": 71,
     "metadata": {},
     "output_type": "execute_result"
    }
   ],
   "source": [
    "#using AP series formula\n",
    "def sum_AP2(a,d,n):\n",
    "    return (n/2)*(2*a + (n-1)*d)\n",
    "\n",
    "sum_AP(2,3,4)"
   ]
  },
  {
   "cell_type": "markdown",
   "id": "d4939fa7",
   "metadata": {},
   "source": [
    "Check if a number is an Armstrong number (e.g., 153 is an Armstrong number)."
   ]
  },
  {
   "cell_type": "code",
   "execution_count": 72,
   "id": "12694905",
   "metadata": {},
   "outputs": [
    {
     "data": {
      "text/plain": [
       "189"
      ]
     },
     "execution_count": 72,
     "metadata": {},
     "output_type": "execute_result"
    }
   ],
   "source": [
    "def Armstrong(num):\n",
    "    num1 = str(num)\n",
    "    arm=0\n",
    "    for i in num1:\n",
    "        arm+=int(i)**3\n",
    "    return arm\n",
    "\n",
    "Armstrong(45)"
   ]
  },
  {
   "cell_type": "code",
   "execution_count": 73,
   "id": "a21196a3",
   "metadata": {},
   "outputs": [
    {
     "data": {
      "text/plain": [
       "True"
      ]
     },
     "execution_count": 73,
     "metadata": {},
     "output_type": "execute_result"
    }
   ],
   "source": [
    "def isArmstrong(num):\n",
    "    return num == Armstrong(num)\n",
    "\n",
    "isArmstrong(153)"
   ]
  },
  {
   "cell_type": "code",
   "execution_count": 74,
   "id": "e307f8a7",
   "metadata": {},
   "outputs": [
    {
     "data": {
      "text/plain": [
       "[0, 1, 153, 370, 371, 407]"
      ]
     },
     "execution_count": 74,
     "metadata": {},
     "output_type": "execute_result"
    }
   ],
   "source": [
    "lst=[]\n",
    "for i in range(100000):\n",
    "    if i == Armstrong(i):\n",
    "        lst.append(i)\n",
    "lst"
   ]
  },
  {
   "cell_type": "markdown",
   "id": "0ccb8b42",
   "metadata": {},
   "source": [
    "Print the first n terms of the sequence 2, 4, 8, 16, ..."
   ]
  },
  {
   "cell_type": "code",
   "execution_count": 75,
   "id": "7651ade4",
   "metadata": {},
   "outputs": [
    {
     "data": {
      "text/plain": [
       "[2, 4, 8, 16, 32]"
      ]
     },
     "execution_count": 75,
     "metadata": {},
     "output_type": "execute_result"
    }
   ],
   "source": [
    "def GP(a,r,n):\n",
    "    GP=[a]\n",
    "    for i in range(n-1):\n",
    "        a*=r\n",
    "        GP.append(a)\n",
    "    return GP\n",
    "\n",
    "GP(2,2,5)"
   ]
  },
  {
   "cell_type": "markdown",
   "id": "225fde4c",
   "metadata": {},
   "source": [
    "Write a function to find the square root of a number (using simple approximation)"
   ]
  },
  {
   "cell_type": "code",
   "execution_count": 76,
   "id": "4e26acb5",
   "metadata": {},
   "outputs": [
    {
     "data": {
      "text/plain": [
       "5.385164807134505"
      ]
     },
     "execution_count": 76,
     "metadata": {},
     "output_type": "execute_result"
    }
   ],
   "source": [
    "def sqrt_approximate(x,a):\n",
    "    # Babylonian Method\n",
    "    while True:\n",
    "        approx = (x + a**2)/(2*a)\n",
    "        if abs(a - approx) < 0.00001:\n",
    "            return approx\n",
    "        a = approx\n",
    "        \n",
    "sqrt_approximate(29,5)"
   ]
  },
  {
   "cell_type": "markdown",
   "id": "3ca1de14",
   "metadata": {},
   "source": [
    "Level 2: Intermediate"
   ]
  },
  {
   "cell_type": "markdown",
   "id": "b34d5ad6",
   "metadata": {},
   "source": [
    "Write a function to find the sum of the first n terms of a geometric series"
   ]
  },
  {
   "cell_type": "code",
   "execution_count": 77,
   "id": "dd93757f",
   "metadata": {},
   "outputs": [
    {
     "data": {
      "text/plain": [
       "62"
      ]
     },
     "execution_count": 77,
     "metadata": {},
     "output_type": "execute_result"
    }
   ],
   "source": [
    "def sum_of_GP(a,r,n):\n",
    "    return sum(GP(a,r,n))\n",
    "\n",
    "sum_of_GP(2,2,5)"
   ]
  },
  {
   "cell_type": "markdown",
   "id": "3bce658e",
   "metadata": {},
   "source": [
    "Implement a program to solve quadratic equations given coefficients a, b, and c."
   ]
  },
  {
   "cell_type": "code",
   "execution_count": 78,
   "id": "bba4e654",
   "metadata": {},
   "outputs": [
    {
     "data": {
      "text/plain": [
       "((0.5000000000000001+1.3228756555322954j),\n",
       " (0.49999999999999994-1.3228756555322954j))"
      ]
     },
     "execution_count": 78,
     "metadata": {},
     "output_type": "execute_result"
    }
   ],
   "source": [
    "def quadratic(a,b,c):\n",
    "    if a != 0:\n",
    "        x1 = (- b + (b**2 - (4*a*c))**0.5)/(2*a)\n",
    "        x2 = (- b - (b**2 - (4*a*c))**0.5)/(2*a)\n",
    "        return x1, x2\n",
    "\n",
    "quadratic(1,-1,2)"
   ]
  },
  {
   "cell_type": "markdown",
   "id": "b627c193",
   "metadata": {},
   "source": [
    "Write a program to determine if a number is a perfect number (equal to the sum of its proper divisors)."
   ]
  },
  {
   "cell_type": "code",
   "execution_count": 79,
   "id": "bfa1d5f0",
   "metadata": {},
   "outputs": [
    {
     "data": {
      "text/plain": [
       "True"
      ]
     },
     "execution_count": 79,
     "metadata": {},
     "output_type": "execute_result"
    }
   ],
   "source": [
    "def is_perfect(num):\n",
    "    lst=[]\n",
    "    for i in range(1,num):\n",
    "        if num%i ==0:\n",
    "            lst.append(i)\n",
    "    return num == sum(lst)\n",
    "\n",
    "is_perfect(28)"
   ]
  },
  {
   "cell_type": "markdown",
   "id": "8dc95ed1",
   "metadata": {},
   "source": [
    "Create a function to calculate the sum of the first n odd numbers."
   ]
  },
  {
   "cell_type": "code",
   "execution_count": 80,
   "id": "73017556",
   "metadata": {},
   "outputs": [
    {
     "data": {
      "text/plain": [
       "49"
      ]
     },
     "execution_count": 80,
     "metadata": {},
     "output_type": "execute_result"
    }
   ],
   "source": [
    "#using list\n",
    "def sum_odd(n):\n",
    "    lst=[]\n",
    "    for i in range(n):\n",
    "        lst.append(2*i+1)\n",
    "    return sum(lst)\n",
    "\n",
    "sum_odd(7)"
   ]
  },
  {
   "cell_type": "code",
   "execution_count": 81,
   "id": "e53f9262",
   "metadata": {},
   "outputs": [
    {
     "data": {
      "text/plain": [
       "49"
      ]
     },
     "execution_count": 81,
     "metadata": {},
     "output_type": "execute_result"
    }
   ],
   "source": [
    "def sum_odd2(n):\n",
    "    A=0\n",
    "    for i in range(n):\n",
    "        A+=(2*i+1)\n",
    "    return A\n",
    "\n",
    "sum_odd2(7)"
   ]
  },
  {
   "cell_type": "markdown",
   "id": "b44b08c5",
   "metadata": {},
   "source": [
    "Write a program to find all the numbers in a list that are palindromic."
   ]
  },
  {
   "cell_type": "code",
   "execution_count": 82,
   "id": "fc2aaec0",
   "metadata": {},
   "outputs": [
    {
     "data": {
      "text/plain": [
       "[232, 27372]"
      ]
     },
     "execution_count": 82,
     "metadata": {},
     "output_type": "execute_result"
    }
   ],
   "source": [
    "def palindromic(lst):\n",
    "    res=[]\n",
    "    for el in lst:\n",
    "        if int(reverse(el)) == el:\n",
    "            res.append(el)\n",
    "    return res\n",
    "\n",
    "palindromic([232,152,881,27372])"
   ]
  },
  {
   "cell_type": "markdown",
   "id": "b117ba23",
   "metadata": {},
   "source": [
    "Level 3: Advanced"
   ]
  },
  {
   "cell_type": "markdown",
   "id": "c7fe2ef5",
   "metadata": {},
   "source": [
    "Implement a program to find the nth Catalan number"
   ]
  },
  {
   "cell_type": "code",
   "execution_count": 83,
   "id": "d341ae47",
   "metadata": {},
   "outputs": [
    {
     "data": {
      "text/plain": [
       "[1,\n",
       " 1,\n",
       " 2,\n",
       " 5,\n",
       " 14,\n",
       " 42,\n",
       " 132,\n",
       " 429,\n",
       " 1430,\n",
       " 4862,\n",
       " 16796,\n",
       " 58786,\n",
       " 208012,\n",
       " 742900,\n",
       " 2674440,\n",
       " 9694845,\n",
       " 35357670,\n",
       " 129644790]"
      ]
     },
     "execution_count": 83,
     "metadata": {},
     "output_type": "execute_result"
    }
   ],
   "source": [
    "def catalan(num):\n",
    "    lst=[]\n",
    "    for i in range(num):\n",
    "        #using a defined factorial function (fact)\n",
    "        comb = fact(2*i)//((fact(i))*(fact(i)))\n",
    "        term = comb//(i+1)\n",
    "        lst.append(term)\n",
    "    return lst\n",
    "\n",
    "catalan(18)"
   ]
  },
  {
   "cell_type": "markdown",
   "id": "fa3dff71",
   "metadata": {},
   "source": [
    "Write a program to generate Pascal’s triangle up to a given number of rows"
   ]
  },
  {
   "cell_type": "code",
   "execution_count": 84,
   "id": "73282efb",
   "metadata": {},
   "outputs": [],
   "source": [
    "def combination(n,r):\n",
    "    #using a defined factorial function (fact)\n",
    "    return fact(n)//((fact(r))*(fact(n-r)))"
   ]
  },
  {
   "cell_type": "code",
   "execution_count": 85,
   "id": "f557e275",
   "metadata": {},
   "outputs": [
    {
     "name": "stdout",
     "output_type": "stream",
     "text": [
      "For 0 :  [1]\n",
      "For 1 :  [1, 1]\n",
      "For 2 :  [1, 2, 1]\n",
      "For 3 :  [1, 3, 3, 1]\n",
      "For 4 :  [1, 4, 6, 4, 1]\n",
      "For 5 :  [1, 5, 10, 10, 5, 1]\n"
     ]
    }
   ],
   "source": [
    "def pascal(num):\n",
    "    #using a defined combination function (combination)\n",
    "    for i in range(0,num+1):\n",
    "        print('For', i, ': ',[combination(i,j) for j in range(i+1)])\n",
    "        \n",
    "pascal(5)"
   ]
  },
  {
   "cell_type": "markdown",
   "id": "f76b0ff0",
   "metadata": {},
   "source": [
    "Create a function that generates all possible permutations of a string."
   ]
  },
  {
   "cell_type": "code",
   "execution_count": 86,
   "id": "baf8d85b",
   "metadata": {},
   "outputs": [
    {
     "data": {
      "text/plain": [
       "['abc', 'acb', 'bac', 'bca', 'cab', 'cba']"
      ]
     },
     "execution_count": 86,
     "metadata": {},
     "output_type": "execute_result"
    }
   ],
   "source": [
    "def generate_permutations(s):\n",
    "    if len(s) == 1:\n",
    "        return [s]\n",
    "\n",
    "    permutations = []\n",
    "    for i, char in enumerate(s):\n",
    "        # Remove character from string\n",
    "        remaining_string = s[:i] + s[i+1:]\n",
    "        \n",
    "        # Generate permutations of remaining string\n",
    "        for perm in generate_permutations(remaining_string):\n",
    "            # Add removed character to beginning of each permutation\n",
    "            permutations.append(char + perm)\n",
    "\n",
    "    return permutations\n",
    "generate_permutations('abc')"
   ]
  },
  {
   "cell_type": "markdown",
   "id": "5f11b782",
   "metadata": {},
   "source": [
    "Write a program to evaluate a mathematical expression given as a string"
   ]
  },
  {
   "cell_type": "code",
   "execution_count": 87,
   "id": "ff553918",
   "metadata": {},
   "outputs": [
    {
     "data": {
      "text/plain": [
       "14"
      ]
     },
     "execution_count": 87,
     "metadata": {},
     "output_type": "execute_result"
    }
   ],
   "source": [
    "def evaluate(s):\n",
    "    return eval(s)\n",
    "\n",
    "evaluate('2+3*4')"
   ]
  },
  {
   "cell_type": "markdown",
   "id": "1ca6e805",
   "metadata": {},
   "source": [
    "Implement a function that returns the nth Lucas number."
   ]
  },
  {
   "cell_type": "code",
   "execution_count": 88,
   "id": "595efdf6",
   "metadata": {},
   "outputs": [
    {
     "data": {
      "text/plain": [
       "11"
      ]
     },
     "execution_count": 88,
     "metadata": {},
     "output_type": "execute_result"
    }
   ],
   "source": [
    "def lucas(n):\n",
    "    lst=[2,1]\n",
    "    for i in range(n-1):\n",
    "        lst.append(lst[-1]+lst[-2])\n",
    "    return lst[n]\n",
    "\n",
    "lucas(5)"
   ]
  },
  {
   "cell_type": "markdown",
   "id": "f44d88c9",
   "metadata": {},
   "source": [
    "# 5. Statistics and Probability Fundamentals"
   ]
  },
  {
   "cell_type": "markdown",
   "id": "20a10469",
   "metadata": {},
   "source": [
    "Level 1: Easy"
   ]
  },
  {
   "cell_type": "markdown",
   "id": "89b4657a",
   "metadata": {},
   "source": [
    "Write a program to calculate the mean of a list of numbers."
   ]
  },
  {
   "cell_type": "code",
   "execution_count": 89,
   "id": "475a345b",
   "metadata": {},
   "outputs": [
    {
     "data": {
      "text/plain": [
       "36.75"
      ]
     },
     "execution_count": 89,
     "metadata": {},
     "output_type": "execute_result"
    }
   ],
   "source": [
    "def mean(lst):\n",
    "    return sum(lst)/len(lst)\n",
    "\n",
    "mean([12,45,67,23])"
   ]
  },
  {
   "cell_type": "markdown",
   "id": "b24446c7",
   "metadata": {},
   "source": [
    "Find the median of a list of numbers."
   ]
  },
  {
   "cell_type": "code",
   "execution_count": 90,
   "id": "34e7b8ed",
   "metadata": {},
   "outputs": [
    {
     "data": {
      "text/plain": [
       "34.0"
      ]
     },
     "execution_count": 90,
     "metadata": {},
     "output_type": "execute_result"
    }
   ],
   "source": [
    "def median(lst):\n",
    "    lst1=sorted(lst)\n",
    "    n=len(lst1)\n",
    "    if n == 1:\n",
    "        return lst1[0]\n",
    "    elif n%2==0:\n",
    "        return (lst1[n//2] + lst1[(n//2)-1])/2 \n",
    "    else:\n",
    "        return lst1[(n-1)//2]\n",
    "    \n",
    "median([12,45,67,23])"
   ]
  },
  {
   "cell_type": "markdown",
   "id": "d4960c78",
   "metadata": {},
   "source": [
    ". Count the mode(s) of a list of numbers."
   ]
  },
  {
   "cell_type": "code",
   "execution_count": 91,
   "id": "54f8a22f",
   "metadata": {},
   "outputs": [
    {
     "data": {
      "text/plain": [
       "[1, 2, 5]"
      ]
     },
     "execution_count": 91,
     "metadata": {},
     "output_type": "execute_result"
    }
   ],
   "source": [
    "def mode(lst):\n",
    "    freq=[]\n",
    "    mode=[]\n",
    "    for e in lst:\n",
    "        freq.append(lst.count(e))\n",
    "    # max freq\n",
    "    n = max(freq)\n",
    "    for i in lst:\n",
    "        if lst.count(i)==n and i not in mode:\n",
    "            mode.append(i)\n",
    "    return mode\n",
    "\n",
    "mode([1,2,4,5,5,9,3,1,2,6])"
   ]
  },
  {
   "cell_type": "markdown",
   "id": "1bf3a95a",
   "metadata": {},
   "source": [
    "Generate 10 random integers between 1 and 100 and print them."
   ]
  },
  {
   "cell_type": "code",
   "execution_count": 92,
   "id": "57f40f2c",
   "metadata": {},
   "outputs": [
    {
     "data": {
      "text/plain": [
       "[50, 9, 21, 79, 13, 78, 95, 64, 43, 69]"
      ]
     },
     "execution_count": 92,
     "metadata": {},
     "output_type": "execute_result"
    }
   ],
   "source": [
    "import random\n",
    "\n",
    "rand=[]\n",
    "for i in range(10):\n",
    "    rand.append(random.randrange(1,100))\n",
    "rand"
   ]
  },
  {
   "cell_type": "markdown",
   "id": "89f36999",
   "metadata": {},
   "source": [
    "Calculate the range of a list of numbers (difference between the maximum and minimum)."
   ]
  },
  {
   "cell_type": "code",
   "execution_count": 93,
   "id": "3e7e2335",
   "metadata": {},
   "outputs": [
    {
     "data": {
      "text/plain": [
       "57"
      ]
     },
     "execution_count": 93,
     "metadata": {},
     "output_type": "execute_result"
    }
   ],
   "source": [
    "def range_(lst):\n",
    "    return max(lst)-min(lst)\n",
    "\n",
    "range_([13,22,5,8,23,62,45])"
   ]
  },
  {
   "cell_type": "markdown",
   "id": "8a25b56e",
   "metadata": {},
   "source": [
    "Level 2: Intermediate"
   ]
  },
  {
   "cell_type": "markdown",
   "id": "0417c92d",
   "metadata": {},
   "source": [
    "Write a program to calculate the variance of a list of numbers"
   ]
  },
  {
   "cell_type": "code",
   "execution_count": 94,
   "id": "b7f6e234",
   "metadata": {},
   "outputs": [
    {
     "data": {
      "text/plain": [
       "12.122448979591837"
      ]
     },
     "execution_count": 94,
     "metadata": {},
     "output_type": "execute_result"
    }
   ],
   "source": [
    "def variance(lst):\n",
    "    dev_sq=[]\n",
    "    for e in lst:\n",
    "        dev_sq.append((e-mean(lst))**2)\n",
    "    return mean(dev_sq)\n",
    "\n",
    "variance([1,3,4,7,9,7,12])"
   ]
  },
  {
   "cell_type": "markdown",
   "id": "15154e4a",
   "metadata": {},
   "source": [
    "Create a function to simulate rolling two six-sided dice 1000 times and display the\n",
    "frequency of each sum."
   ]
  },
  {
   "cell_type": "code",
   "execution_count": 95,
   "id": "2cdbacfb",
   "metadata": {},
   "outputs": [
    {
     "data": {
      "text/plain": [
       "[[2, 27],\n",
       " [3, 53],\n",
       " [4, 90],\n",
       " [5, 117],\n",
       " [6, 149],\n",
       " [7, 161],\n",
       " [8, 133],\n",
       " [9, 126],\n",
       " [10, 73],\n",
       " [11, 49],\n",
       " [12, 22]]"
      ]
     },
     "execution_count": 95,
     "metadata": {},
     "output_type": "execute_result"
    }
   ],
   "source": [
    "def dice(num):\n",
    "    results=[]\n",
    "    freq=[]\n",
    "    for i in range(num):\n",
    "        results.append(random.randrange(1,7)+random.randrange(1,7))\n",
    "    \n",
    "    # for frequency    \n",
    "    for i in range(2,13):\n",
    "        freq.append([i, results.count(i)])\n",
    "    return freq\n",
    "\n",
    "dice(1000)"
   ]
  },
  {
   "cell_type": "markdown",
   "id": "6d7e9bb5",
   "metadata": {},
   "source": [
    "Calculate the probability of drawing a specific card from a deck of cards."
   ]
  },
  {
   "cell_type": "code",
   "execution_count": 96,
   "id": "e4b65f5c",
   "metadata": {},
   "outputs": [
    {
     "data": {
      "text/plain": [
       "0.07692307692307693"
      ]
     },
     "execution_count": 96,
     "metadata": {},
     "output_type": "execute_result"
    }
   ],
   "source": [
    "def probability(card):\n",
    "    card_dict={'ACE': 4, '2': 4, '3': 4, '4': 4, '5': 4, '6': 4, '7': 4,'8': 4, '9': 4, '10': 4, \n",
    "           'KING': 4, 'QUEEN': 4, 'JUDGE': 4, 'SPADE': 13, 'CLUB': 13, 'DIAMOND': 13, 'HEART': 13}\n",
    "    card1 = card.upper()\n",
    "    if card1 in card_dict:\n",
    "        return card_dict[card1]/52\n",
    "    \n",
    "\n",
    "probability('Ace')"
   ]
  },
  {
   "cell_type": "markdown",
   "id": "445be877",
   "metadata": {},
   "source": [
    "Implement a function to normalize a list of numbers (rescale them to a range of 0 to 1)."
   ]
  },
  {
   "cell_type": "code",
   "execution_count": 97,
   "id": "d813a552",
   "metadata": {},
   "outputs": [
    {
     "data": {
      "text/plain": [
       "[0.07407407407407407,\n",
       " 0.1111111111111111,\n",
       " 0.14814814814814814,\n",
       " 0.18518518518518517,\n",
       " 0.2222222222222222,\n",
       " 0.25925925925925924]"
      ]
     },
     "execution_count": 97,
     "metadata": {},
     "output_type": "execute_result"
    }
   ],
   "source": [
    "def normalize(lst):\n",
    "    lst1=[]\n",
    "    for i in lst:\n",
    "        lst1.append(i/sum(lst))\n",
    "    return lst1\n",
    "\n",
    "normalize([2,3,4,5,6,7])"
   ]
  },
  {
   "cell_type": "markdown",
   "id": "8426bd93",
   "metadata": {},
   "source": [
    "Generate a random sample of 10 elements from a list."
   ]
  },
  {
   "cell_type": "code",
   "execution_count": 98,
   "id": "6954d7c3",
   "metadata": {},
   "outputs": [
    {
     "name": "stdout",
     "output_type": "stream",
     "text": [
      "[0, 9, 0, 7, 9, 2, 4, 5, 2, 3]\n"
     ]
    }
   ],
   "source": [
    "lst=[1, 2, 4, 5, 9, 3, 1, 2, 6,3,4,5,6,7,0,8,8,9,9,4,0,2,4,0,9,12,11,6,3]\n",
    "gen = random.sample(lst,10)\n",
    "print(gen)"
   ]
  },
  {
   "cell_type": "markdown",
   "id": "4ec5594e",
   "metadata": {},
   "source": [
    "Level 3: Advanced"
   ]
  },
  {
   "cell_type": "markdown",
   "id": "24eaa4ad",
   "metadata": {},
   "source": [
    "Write a function to calculate the standard deviation of a list of numbers."
   ]
  },
  {
   "cell_type": "code",
   "execution_count": 99,
   "id": "2c47825f",
   "metadata": {},
   "outputs": [
    {
     "data": {
      "text/plain": [
       "3.341804535058129"
      ]
     },
     "execution_count": 99,
     "metadata": {},
     "output_type": "execute_result"
    }
   ],
   "source": [
    "def SD(lst):\n",
    "    return variance(lst)**0.5\n",
    "\n",
    "SD(lst)"
   ]
  },
  {
   "cell_type": "markdown",
   "id": "8d77a8bd",
   "metadata": {},
   "source": [
    "Implement a function to calculate the cumulative distribution function (CDF) for a normal distribution given mean and standard deviation"
   ]
  },
  {
   "cell_type": "code",
   "execution_count": 100,
   "id": "cb7eb7ee",
   "metadata": {},
   "outputs": [
    {
     "data": {
      "text/plain": [
       "0.9331927987311419"
      ]
     },
     "execution_count": 100,
     "metadata": {},
     "output_type": "execute_result"
    }
   ],
   "source": [
    "import math\n",
    "def cdf(x,mu,sigma):\n",
    "    return (1/2)*(1 + math.erf((x - mu)/(sigma*(2**0.5))))\n",
    "\n",
    "cdf(1.5,0,1)"
   ]
  },
  {
   "cell_type": "markdown",
   "id": "f63c77c0",
   "metadata": {},
   "source": [
    "Simulate flipping a coin n times and count the longest run of heads or tails"
   ]
  },
  {
   "cell_type": "code",
   "execution_count": 101,
   "id": "3ef6602b",
   "metadata": {},
   "outputs": [
    {
     "name": "stdout",
     "output_type": "stream",
     "text": [
      "['T', 'T', 'H', 'T', 'H', 'H', 'H', 'T', 'H', 'T', 'H', 'H', 'T', 'H', 'H', 'T', 'T', 'H', 'T', 'H', 'H', 'T', 'T', 'H', 'T', 'T', 'H', 'H', 'H', 'T', 'T', 'T', 'T', 'T', 'H', 'T', 'T', 'T', 'T', 'H', 'T', 'H', 'H', 'H', 'T', 'T', 'H', 'T', 'T', 'T', 'H', 'H', 'T', 'H', 'H', 'T', 'T', 'T', 'H', 'T', 'T', 'H', 'T', 'H', 'T', 'H', 'T', 'H', 'T', 'T', 'T', 'H', 'H', 'T', 'H', 'H', 'H', 'T', 'T', 'H', 'T', 'T', 'T', 'H', 'H', 'T', 'H', 'H', 'H', 'H', 'T', 'T', 'T', 'T', 'H', 'H', 'T', 'T', 'T', 'T', 'H', 'H', 'H', 'T', 'T', 'T', 'H', 'H', 'T', 'H', 'H', 'H', 'T', 'H', 'T', 'T', 'H', 'H', 'H', 'T']\n",
      "Longest head run is 4 \n",
      "longest tail run is 5\n"
     ]
    }
   ],
   "source": [
    "def coin(n):\n",
    "    res=[]\n",
    "    coin=[]\n",
    "    for i in range(n):\n",
    "        res.append(random.randrange(2))\n",
    "    for el in res:\n",
    "        if el ==0:\n",
    "            coin.append('H')\n",
    "        else:\n",
    "            coin.append('T')\n",
    "            \n",
    "    current_head=0\n",
    "    current_tail=0\n",
    "    longest_head=0\n",
    "    longest_tail=0\n",
    "    for i in coin:\n",
    "        if i == 'H':\n",
    "            current_head+=1\n",
    "            current_tail=0\n",
    "            longest_head=max(current_head, longest_head)\n",
    "        elif i == 'T':\n",
    "            current_head=0\n",
    "            current_tail+=1\n",
    "            longest_tail=max(current_tail, longest_tail)\n",
    "    print(coin)\n",
    "    print('Longest head run is', longest_head,'\\nlongest tail run is', longest_tail)\n",
    "\n",
    "coin(120)"
   ]
  },
  {
   "cell_type": "code",
   "execution_count": 102,
   "id": "433eec62",
   "metadata": {},
   "outputs": [
    {
     "name": "stdout",
     "output_type": "stream",
     "text": [
      "['H', 'H', 'H', 'T', 'T', 'H', 'H', 'H', 'T', 'T', 'H', 'H', 'H', 'H', 'H', 'T', 'T', 'H', 'H', 'T', 'T', 'H', 'H', 'H', 'H', 'H', 'T', 'T', 'T', 'T', 'H', 'T', 'T', 'H', 'H', 'H', 'T', 'H', 'H', 'H', 'H', 'H', 'T', 'H', 'H', 'H', 'T', 'T', 'T', 'H', 'T', 'T', 'H', 'H', 'H', 'T', 'H', 'T', 'T', 'T', 'T', 'H', 'H', 'H', 'T', 'T', 'H', 'H', 'T', 'H', 'T', 'H', 'H', 'T', 'H', 'T', 'H', 'H', 'T', 'T', 'H', 'T', 'H', 'H', 'T', 'T', 'H', 'T', 'T', 'T', 'T', 'H', 'T', 'T', 'H', 'T', 'T', 'T', 'T', 'T', 'H', 'T', 'T', 'T', 'T', 'H', 'T', 'H', 'T', 'H', 'T', 'T', 'T', 'H', 'H', 'H', 'H', 'H', 'H', 'H']\n",
      "Longest head run is 7 \n",
      "longest tail run is 5\n"
     ]
    }
   ],
   "source": [
    "def coin2(n):\n",
    "    res=[]\n",
    "    for i in range(n):\n",
    "        res.append(random.choice(['H','T']))\n",
    "        \n",
    "    current_head=0\n",
    "    current_tail=0\n",
    "    longest_head=0\n",
    "    longest_tail=0\n",
    "    for i in res:\n",
    "        if i == 'H':\n",
    "            current_head+=1\n",
    "            current_tail=0\n",
    "            longest_head=max(current_head, longest_head)\n",
    "        elif i == 'T':\n",
    "            current_head=0\n",
    "            current_tail+=1\n",
    "            longest_tail=max(current_tail, longest_tail)\n",
    "    print(res)\n",
    "    print('Longest head run is', longest_head,'\\nlongest tail run is', longest_tail)\n",
    "\n",
    "coin2(120)"
   ]
  },
  {
   "cell_type": "markdown",
   "id": "45bebac5",
   "metadata": {},
   "source": [
    "Write a program to calculate correlation between two lists of numbers."
   ]
  },
  {
   "cell_type": "code",
   "execution_count": 103,
   "id": "330be354",
   "metadata": {},
   "outputs": [
    {
     "data": {
      "text/plain": [
       "1.0"
      ]
     },
     "execution_count": 103,
     "metadata": {},
     "output_type": "execute_result"
    }
   ],
   "source": [
    "def correlation(lst_x,lst_y):\n",
    "    if len(lst_x)==len(lst_y):\n",
    "        n=len(lst_x)\n",
    "        lst_x2=[i**2 for i in lst_x]\n",
    "        lst_xy=[lst_x[i]*lst_y[i] for i in range(n)]\n",
    "        lst_y2=[i**2 for i in lst_y]\n",
    "    \n",
    "        num = (n*sum(lst_xy))-(sum(lst_x)*sum(lst_y))\n",
    "        den = ((n*sum(lst_x2))-(sum(lst_x))**2)*((n*sum(lst_y2))-(sum(lst_y))**2)\n",
    "        return num/(den**0.5)\n",
    "\n",
    "correlation([12,16,20,24,28,32,36],[6,9,12,15,18,21,24])"
   ]
  },
  {
   "cell_type": "markdown",
   "id": "d5ecb2af",
   "metadata": {},
   "source": [
    "Implement a program to simulate the Monty Hall problem and calculate the probability of winning if the player switches doors."
   ]
  },
  {
   "cell_type": "code",
   "execution_count": null,
   "id": "cf14c4cf",
   "metadata": {},
   "outputs": [],
   "source": []
  },
  {
   "cell_type": "markdown",
   "id": "8df332e8",
   "metadata": {},
   "source": [
    "# 6. NumPy Basics and Vectorized Operations"
   ]
  },
  {
   "cell_type": "markdown",
   "id": "340f6929",
   "metadata": {},
   "source": [
    "Level 1: Easy"
   ]
  },
  {
   "cell_type": "markdown",
   "id": "22d833cb",
   "metadata": {},
   "source": [
    "Create a NumPy array with values from 0 to 9"
   ]
  },
  {
   "cell_type": "code",
   "execution_count": 104,
   "id": "84f75919",
   "metadata": {},
   "outputs": [],
   "source": [
    "import numpy as np"
   ]
  },
  {
   "cell_type": "code",
   "execution_count": 105,
   "id": "84228722",
   "metadata": {},
   "outputs": [
    {
     "data": {
      "text/plain": [
       "array([0, 1, 2, 3, 4, 5, 6, 7, 8])"
      ]
     },
     "execution_count": 105,
     "metadata": {},
     "output_type": "execute_result"
    }
   ],
   "source": [
    "np.arange(0,9)"
   ]
  },
  {
   "cell_type": "markdown",
   "id": "1509fb4b",
   "metadata": {},
   "source": [
    "Generate a 3x3 identity matrix using NumPy."
   ]
  },
  {
   "cell_type": "code",
   "execution_count": 106,
   "id": "3fad5458",
   "metadata": {},
   "outputs": [
    {
     "data": {
      "text/plain": [
       "array([[1., 0., 0.],\n",
       "       [0., 1., 0.],\n",
       "       [0., 0., 1.]])"
      ]
     },
     "execution_count": 106,
     "metadata": {},
     "output_type": "execute_result"
    }
   ],
   "source": [
    "np.eye(3)"
   ]
  },
  {
   "cell_type": "code",
   "execution_count": 107,
   "id": "1d5b393b",
   "metadata": {},
   "outputs": [
    {
     "data": {
      "text/plain": [
       "array([[1., 0., 0.],\n",
       "       [0., 1., 0.],\n",
       "       [0., 0., 1.]])"
      ]
     },
     "execution_count": 107,
     "metadata": {},
     "output_type": "execute_result"
    }
   ],
   "source": [
    "np.identity(3)"
   ]
  },
  {
   "cell_type": "markdown",
   "id": "7819e0b8",
   "metadata": {},
   "source": [
    "Create a NumPy array with random values between 0 and 1."
   ]
  },
  {
   "cell_type": "code",
   "execution_count": 108,
   "id": "d7960e49",
   "metadata": {},
   "outputs": [
    {
     "data": {
      "text/plain": [
       "array([0.12079057, 0.63433727, 0.61784388, 0.39462105, 0.30660097,\n",
       "       0.99271024, 0.83879623, 0.09931807, 0.41532215, 0.88911117])"
      ]
     },
     "execution_count": 108,
     "metadata": {},
     "output_type": "execute_result"
    }
   ],
   "source": [
    "np.random.uniform(0,1,size=(10))"
   ]
  },
  {
   "cell_type": "markdown",
   "id": "be9d2ac8",
   "metadata": {},
   "source": [
    "Write a program to reshape a 1D NumPy array into a 2D array."
   ]
  },
  {
   "cell_type": "code",
   "execution_count": 109,
   "id": "1846362b",
   "metadata": {},
   "outputs": [
    {
     "data": {
      "text/plain": [
       "array([[0, 1, 2, 3, 4],\n",
       "       [5, 6, 7, 8, 9]])"
      ]
     },
     "execution_count": 109,
     "metadata": {},
     "output_type": "execute_result"
    }
   ],
   "source": [
    "np.arange(0,10).reshape(2,5)"
   ]
  },
  {
   "cell_type": "markdown",
   "id": "11ebf59c",
   "metadata": {},
   "source": [
    "Find the sum of all elements in a NumPy array."
   ]
  },
  {
   "cell_type": "code",
   "execution_count": 110,
   "id": "878bc795",
   "metadata": {},
   "outputs": [
    {
     "data": {
      "text/plain": [
       "45"
      ]
     },
     "execution_count": 110,
     "metadata": {},
     "output_type": "execute_result"
    }
   ],
   "source": [
    "np.arange(0,10).sum()"
   ]
  },
  {
   "cell_type": "code",
   "execution_count": 111,
   "id": "b4d5dc1b",
   "metadata": {},
   "outputs": [
    {
     "data": {
      "text/plain": [
       "45"
      ]
     },
     "execution_count": 111,
     "metadata": {},
     "output_type": "execute_result"
    }
   ],
   "source": [
    "sum(np.arange(0,10))"
   ]
  },
  {
   "cell_type": "markdown",
   "id": "2dd48ed7",
   "metadata": {},
   "source": [
    "Level 2: Intermediate"
   ]
  },
  {
   "cell_type": "markdown",
   "id": "6fabec5a",
   "metadata": {},
   "source": [
    "Create a NumPy array of even numbers between 10 and 50."
   ]
  },
  {
   "cell_type": "code",
   "execution_count": 112,
   "id": "5093e21b",
   "metadata": {},
   "outputs": [
    {
     "data": {
      "text/plain": [
       "array([10, 12, 14, 16, 18, 20, 22, 24, 26, 28, 30, 32, 34, 36, 38, 40, 42,\n",
       "       44, 46, 48])"
      ]
     },
     "execution_count": 112,
     "metadata": {},
     "output_type": "execute_result"
    }
   ],
   "source": [
    "2*np.arange(5,25)"
   ]
  },
  {
   "cell_type": "markdown",
   "id": "df53f968",
   "metadata": {},
   "source": [
    "Write a program to multiply two NumPy arrays element-wise."
   ]
  },
  {
   "cell_type": "code",
   "execution_count": 113,
   "id": "cdfb14dc",
   "metadata": {},
   "outputs": [
    {
     "data": {
      "text/plain": [
       "array([12, 46, 93, 56])"
      ]
     },
     "execution_count": 113,
     "metadata": {},
     "output_type": "execute_result"
    }
   ],
   "source": [
    "np.array([1,2,31,14])*np.array([12,23,3,4])"
   ]
  },
  {
   "cell_type": "markdown",
   "id": "3c2b0bde",
   "metadata": {},
   "source": [
    "Generate a 2x3 matrix with normally distributed random values"
   ]
  },
  {
   "cell_type": "code",
   "execution_count": 114,
   "id": "8b17cf3e",
   "metadata": {},
   "outputs": [
    {
     "data": {
      "text/plain": [
       "array([[ 0.89786418, -0.96593634,  0.8211367 ],\n",
       "       [ 0.48875897, -0.82087145, -0.81284852]])"
      ]
     },
     "execution_count": 114,
     "metadata": {},
     "output_type": "execute_result"
    }
   ],
   "source": [
    "np.random.normal(size=(2,3))"
   ]
  },
  {
   "cell_type": "markdown",
   "id": "36724bd2",
   "metadata": {},
   "source": [
    "Implement a program to transpose a NumPy array."
   ]
  },
  {
   "cell_type": "code",
   "execution_count": 115,
   "id": "f3fa608e",
   "metadata": {},
   "outputs": [
    {
     "data": {
      "text/plain": [
       "array([[1, 3, 2, 4],\n",
       "       [5, 6, 7, 1],\n",
       "       [4, 5, 2, 1]])"
      ]
     },
     "execution_count": 115,
     "metadata": {},
     "output_type": "execute_result"
    }
   ],
   "source": [
    "a=np.array([1,3,2,4,5,6,7,1,4,5,2,1])\n",
    "b=a.reshape(3,4)\n",
    "b"
   ]
  },
  {
   "cell_type": "code",
   "execution_count": 116,
   "id": "b173850a",
   "metadata": {},
   "outputs": [
    {
     "data": {
      "text/plain": [
       "array([[1, 5, 4],\n",
       "       [3, 6, 5],\n",
       "       [2, 7, 2],\n",
       "       [4, 1, 1]])"
      ]
     },
     "execution_count": 116,
     "metadata": {},
     "output_type": "execute_result"
    }
   ],
   "source": [
    "C=b.transpose()\n",
    "C"
   ]
  },
  {
   "cell_type": "markdown",
   "id": "4a426148",
   "metadata": {},
   "source": [
    "Write a function to find the dot product of two 1D NumPy arrays."
   ]
  },
  {
   "cell_type": "code",
   "execution_count": 117,
   "id": "1ac006ea",
   "metadata": {},
   "outputs": [
    {
     "data": {
      "text/plain": [
       "18"
      ]
     },
     "execution_count": 117,
     "metadata": {},
     "output_type": "execute_result"
    }
   ],
   "source": [
    "def dotProduct(a,b):\n",
    "    a1=np.array(a)\n",
    "    b1=np.array(b)\n",
    "    return (a1*b1).sum()\n",
    "\n",
    "dotProduct([2,3],[3,4])"
   ]
  },
  {
   "cell_type": "markdown",
   "id": "7898d262",
   "metadata": {},
   "source": [
    "Level 3: Advanced"
   ]
  },
  {
   "cell_type": "markdown",
   "id": "23f06c76",
   "metadata": {},
   "source": [
    "Create a function to perform matrix multiplication on two 2D NumPy arrays."
   ]
  },
  {
   "cell_type": "code",
   "execution_count": 118,
   "id": "bb18c93c",
   "metadata": {},
   "outputs": [
    {
     "data": {
      "text/plain": [
       "array([[22, 28],\n",
       "       [49, 64],\n",
       "       [49, 64],\n",
       "       [63, 84]])"
      ]
     },
     "execution_count": 118,
     "metadata": {},
     "output_type": "execute_result"
    }
   ],
   "source": [
    "def matrix_mult(A,B):\n",
    "    prod=[]\n",
    "    A_row=A[:,0].size\n",
    "    B_col=B[0,:].size\n",
    "    A_col=A[0,:].size\n",
    "    B_row=B[:,0].size\n",
    "    if A_col == B_row:\n",
    "        for i in range(A_row):\n",
    "            for j in range(B_col):\n",
    "                prod.append(sum(A[i,:]*B[:,j]))\n",
    "        res = np.array(prod).reshape(A_row,B_col)\n",
    "    return res\n",
    "\n",
    "#example\n",
    "A=np.array([1,2,3,4,5,6,4,5,6,7,7,7]).reshape(4,3)\n",
    "B=np.array([1,2,3,4,5,6]).reshape(3,2)\n",
    "matrix_mult(A,B)"
   ]
  },
  {
   "cell_type": "markdown",
   "id": "d5ad7396",
   "metadata": {},
   "source": [
    "Implement a function that normalizes a NumPy array (subtract mean, divide by std deviation)."
   ]
  },
  {
   "cell_type": "code",
   "execution_count": 119,
   "id": "44826b8c",
   "metadata": {},
   "outputs": [
    {
     "data": {
      "text/plain": [
       "array([-1.95283366, -1.43207802, -0.91132238, -0.39056673,  0.13018891,\n",
       "        0.65094455, -0.39056673,  0.13018891,  0.65094455,  1.1717002 ,\n",
       "        1.1717002 ,  1.1717002 ])"
      ]
     },
     "execution_count": 119,
     "metadata": {},
     "output_type": "execute_result"
    }
   ],
   "source": [
    "def Normalise_np(A):\n",
    "    return (A-mean(A))/SD(A)\n",
    "\n",
    "A1=np.array([1,2,3,4,5,6,4,5,6,7,7,7])\n",
    "Normalise_np(A1)"
   ]
  },
  {
   "cell_type": "markdown",
   "id": "84eba0e4",
   "metadata": {},
   "source": [
    "Write a program to calculate the determinant of a 3x3 matrix."
   ]
  },
  {
   "cell_type": "code",
   "execution_count": 120,
   "id": "32e77148",
   "metadata": {},
   "outputs": [
    {
     "data": {
      "text/plain": [
       "-42"
      ]
     },
     "execution_count": 120,
     "metadata": {},
     "output_type": "execute_result"
    }
   ],
   "source": [
    "def det(A):\n",
    "    col=A[0,:].size\n",
    "    row=A[:,0].size\n",
    "    if row == 3 and col==3:\n",
    "        a = A[0,0]*((A[1,1]*A[2,2])-(A[1,2]*A[2,1]))\n",
    "        b = A[0,1]*(A[1,0]*A[2,2]-A[1,2]*A[2,0])\n",
    "        c = A[0,2]*(A[1,0]*A[2,1]-A[1,1]*A[2,0])\n",
    "        return a-b+c\n",
    "    \n",
    "A_det=np.array([2,1,5,3,4,6,4,3,1]).reshape(3,3)\n",
    "det(A_det)"
   ]
  },
  {
   "cell_type": "markdown",
   "id": "e9f9cf3d",
   "metadata": {},
   "source": [
    "Create a function to generate a NumPy array of sine values given an array of angles in radians."
   ]
  },
  {
   "cell_type": "code",
   "execution_count": 121,
   "id": "d8783d3a",
   "metadata": {},
   "outputs": [
    {
     "data": {
      "text/plain": [
       "array([-0.14112001, -0.67546318, -0.97384763, -0.93203909, -0.56464247,\n",
       "        0.        ,  0.56464247,  0.93203909,  0.97384763,  0.67546318,\n",
       "        0.14112001])"
      ]
     },
     "execution_count": 121,
     "metadata": {},
     "output_type": "execute_result"
    }
   ],
   "source": [
    "def sine(x):\n",
    "    return np.sin(x)\n",
    "\n",
    "sine(np.linspace(-3,3,11))"
   ]
  },
  {
   "cell_type": "markdown",
   "id": "acb5a2bc",
   "metadata": {},
   "source": [
    "Implement a program to perform element-wise comparison between two NumPy arrays and return a Boolean array."
   ]
  },
  {
   "cell_type": "markdown",
   "id": "e80289ed",
   "metadata": {},
   "source": [
    "# Data Visualization with Matplotlib"
   ]
  },
  {
   "cell_type": "markdown",
   "id": "70f451b9",
   "metadata": {},
   "source": [
    "Level 1: Easy"
   ]
  },
  {
   "cell_type": "markdown",
   "id": "c33a3d94",
   "metadata": {},
   "source": [
    "Plot a line graph of y = x^2 for x values from -10 to 10."
   ]
  },
  {
   "cell_type": "code",
   "execution_count": 122,
   "id": "9bb19b82",
   "metadata": {},
   "outputs": [],
   "source": [
    "import matplotlib.pyplot as plt"
   ]
  },
  {
   "cell_type": "code",
   "execution_count": 123,
   "id": "4b6d0804",
   "metadata": {},
   "outputs": [
    {
     "data": {
      "text/plain": [
       "Text(0, 0.5, 'y-axis')"
      ]
     },
     "execution_count": 123,
     "metadata": {},
     "output_type": "execute_result"
    },
    {
     "data": {
      "image/png": "[encoded data removed]",
      "text/plain": [
       "<Figure size 640x480 with 1 Axes>"
      ]
     },
     "metadata": {},
     "output_type": "display_data"
    }
   ],
   "source": [
    "x=np.linspace(-10,10,101)\n",
    "plt.plot(x,x**2)\n",
    "plt.xlabel('x-axis')\n",
    "plt.ylabel('y-axis')"
   ]
  },
  {
   "cell_type": "markdown",
   "id": "780824f8",
   "metadata": {},
   "source": [
    "Generate a bar chart showing the population of five cities."
   ]
  },
  {
   "cell_type": "code",
   "execution_count": 124,
   "id": "97dd36ed",
   "metadata": {},
   "outputs": [
    {
     "data": {
      "text/plain": [
       "<BarContainer object of 6 artists>"
      ]
     },
     "execution_count": 124,
     "metadata": {},
     "output_type": "execute_result"
    },
    {
     "data": {
      "image/png": "[encoded data removed]",
      "text/plain": [
       "<Figure size 640x480 with 1 Axes>"
      ]
     },
     "metadata": {},
     "output_type": "display_data"
    }
   ],
   "source": [
    "cities=['Kampala','Accra','Kumasi','Abuja','Uganda','Kenya']\n",
    "population=[30,15,27,18,29,10]\n",
    "plt.bar(cities,population)\n",
    "\n",
    "#plt.title('Population')\n",
    "#plt.xlabel('cities')\n",
    "#plt.ylabel('population')\n"
   ]
  },
  {
   "cell_type": "markdown",
   "id": "516c40a9",
   "metadata": {},
   "source": [
    "Create a scatter plot of 20 random (x, y) pairs."
   ]
  },
  {
   "cell_type": "code",
   "execution_count": 125,
   "id": "a1615c5e",
   "metadata": {},
   "outputs": [
    {
     "data": {
      "text/plain": [
       "<matplotlib.collections.PathCollection at 0x7f506600fa90>"
      ]
     },
     "execution_count": 125,
     "metadata": {},
     "output_type": "execute_result"
    },
    {
     "data": {
      "image/png": "[encoded data removed]",
      "text/plain": [
       "<Figure size 640x480 with 1 Axes>"
      ]
     },
     "metadata": {},
     "output_type": "display_data"
    }
   ],
   "source": [
    "x_scatter=[2,3,4,5,6,8,3,4,6,7]\n",
    "y_scatter=[87,12,34,56,14,78,62,18,34,23]\n",
    "plt.scatter(x_scatter,y_scatter)"
   ]
  },
  {
   "cell_type": "markdown",
   "id": "acff905f",
   "metadata": {},
   "source": [
    "Draw a histogram of 100 random numbers between 1 and 100."
   ]
  },
  {
   "cell_type": "code",
   "execution_count": 126,
   "id": "344acdcc",
   "metadata": {},
   "outputs": [
    {
     "data": {
      "text/plain": [
       "(array([ 3.,  5., 13., 12., 19., 16., 14., 11.,  3.,  4.]),\n",
       " array([-1.99787619, -1.58392693, -1.16997766, -0.75602839, -0.34207913,\n",
       "         0.07187014,  0.48581941,  0.89976867,  1.31371794,  1.72766721,\n",
       "         2.14161648]),\n",
       " <BarContainer object of 10 artists>)"
      ]
     },
     "execution_count": 126,
     "metadata": {},
     "output_type": "execute_result"
    },
    {
     "data": {
      "image/png": "[encoded data removed]",
      "text/plain": [
       "<Figure size 640x480 with 1 Axes>"
      ]
     },
     "metadata": {},
     "output_type": "display_data"
    }
   ],
   "source": [
    "x_his=np.random.randn(100)\n",
    "plt.hist(x_his, bins=10)"
   ]
  },
  {
   "cell_type": "markdown",
   "id": "10195e13",
   "metadata": {},
   "source": [
    "# Plot a sine wave between 0 and 2$\\pi$"
   ]
  },
  {
   "cell_type": "code",
   "execution_count": 127,
   "id": "515f390d",
   "metadata": {},
   "outputs": [
    {
     "data": {
      "image/png": "[encoded data removed]",
      "text/plain": [
       "<Figure size 640x480 with 1 Axes>"
      ]
     },
     "metadata": {},
     "output_type": "display_data"
    }
   ],
   "source": [
    "x_wave=np.linspace(0,2*np.pi,100)\n",
    "y_wave=np.sin(x_wave)\n",
    "plt.plot(x_wave,y_wave)\n",
    "plt.grid(True)"
   ]
  },
  {
   "cell_type": "markdown",
   "id": "956bbd5b",
   "metadata": {},
   "source": [
    "Level 2: Intermediate"
   ]
  },
  {
   "cell_type": "markdown",
   "id": "bffc2b0b",
   "metadata": {},
   "source": [
    "Create a subplot with 2 graphs: one showing $y = x^2$ and the other showing $y = x^3$."
   ]
  },
  {
   "cell_type": "code",
   "execution_count": 128,
   "id": "5a3469ee",
   "metadata": {},
   "outputs": [
    {
     "data": {
      "text/plain": [
       "<matplotlib.legend.Legend at 0x7f5065dc3f10>"
      ]
     },
     "execution_count": 128,
     "metadata": {},
     "output_type": "execute_result"
    },
    {
     "data": {
      "image/png": "[encoded data removed]",
      "text/plain": [
       "<Figure size 640x480 with 1 Axes>"
      ]
     },
     "metadata": {},
     "output_type": "display_data"
    }
   ],
   "source": [
    "x_sub=np.linspace(-10,10,101)\n",
    "y_x2=x**2\n",
    "y_x3=x**3\n",
    "plt.plot(x_sub,y_x2, label='y=x^2')\n",
    "plt.plot(x_sub,y_x3,label='y=x^3')\n",
    "plt.legend()"
   ]
  },
  {
   "cell_type": "markdown",
   "id": "18e7dcd4",
   "metadata": {},
   "source": [
    "Plot the relationship between a list of years and corresponding rainfall amounts as a line plot."
   ]
  },
  {
   "cell_type": "code",
   "execution_count": 129,
   "id": "de3610b2",
   "metadata": {},
   "outputs": [
    {
     "data": {
      "image/png": "[encoded data removed]",
      "text/plain": [
       "<Figure size 640x480 with 1 Axes>"
      ]
     },
     "metadata": {},
     "output_type": "display_data"
    }
   ],
   "source": [
    "years=[1990,1991,1992,1993,1994,1995,1996,1997,1998,1999]\n",
    "amount=[45,117,89,112,67,81,123,45,98,90]\n",
    "plt.plot(years,amount)\n",
    "plt.title('Relationship between a list of years and corresponding rainfall amounts ')\n",
    "plt.xlabel('Years')\n",
    "plt.ylabel('Amount of Rainfall')\n",
    "plt.show()"
   ]
  },
  {
   "cell_type": "markdown",
   "id": "55749be4",
   "metadata": {},
   "source": [
    "Create a pie chart of market share for four companies."
   ]
  },
  {
   "cell_type": "code",
   "execution_count": 130,
   "id": "bd0de1f7",
   "metadata": {},
   "outputs": [
    {
     "data": {
      "image/png": "[encoded data removed]",
      "text/plain": [
       "<Figure size 640x480 with 1 Axes>"
      ]
     },
     "metadata": {},
     "output_type": "display_data"
    }
   ],
   "source": [
    "share=[24,45,67,98]\n",
    "company=['A','B','C','D']\n",
    "plt.pie(share, labels=company, labeldistance=0.8)\n",
    "plt.show()"
   ]
  },
  {
   "cell_type": "markdown",
   "id": "241bc743",
   "metadata": {},
   "source": [
    "Plot the functions sin(x) and cos(x) on the same graph with different colors and labels.\n",
    "Customize a plot by adding titles, axis labels, and a grid."
   ]
  },
  {
   "cell_type": "code",
   "execution_count": 131,
   "id": "0d1851c0",
   "metadata": {},
   "outputs": [
    {
     "data": {
      "image/png": "[encoded data removed]",
      "text/plain": [
       "<Figure size 2000x1500 with 1 Axes>"
      ]
     },
     "metadata": {},
     "output_type": "display_data"
    }
   ],
   "source": [
    "plt.figure(figsize=(20,15))\n",
    "x_value=np.linspace(-3*np.pi,3*np.pi,1001)\n",
    "plt.plot(x_value,np.sin(x_value), label='Sin x')\n",
    "plt.plot(x_value,np.cos(x_value), label='Cos x')\n",
    "plt.legend()\n",
    "plt.title('Graph of Sin x and Cos x')\n",
    "plt.xlabel('x-axis')\n",
    "plt.ylabel('y-axis')\n",
    "plt.grid(True)\n",
    "plt.show()\n"
   ]
  },
  {
   "cell_type": "markdown",
   "id": "72199810",
   "metadata": {},
   "source": [
    "Level 3: Advanced"
   ]
  },
  {
   "cell_type": "markdown",
   "id": "2c454265",
   "metadata": {},
   "source": [
    "Generate a heatmap of a 5x5 matrix of random values"
   ]
  },
  {
   "cell_type": "code",
   "execution_count": 132,
   "id": "84a191a6",
   "metadata": {
    "scrolled": true
   },
   "outputs": [
    {
     "data": {
      "image/png": "[encoded data removed]",
      "text/plain": [
       "<Figure size 640x480 with 2 Axes>"
      ]
     },
     "metadata": {},
     "output_type": "display_data"
    }
   ],
   "source": [
    "np.random.seed(4)\n",
    "data = np.random.rand(5, 5)\n",
    "\n",
    "plt.imshow(data, cmap='hot', interpolation='nearest')\n",
    "\n",
    "# Add title and labels\n",
    "plt.title('5x5 Random Matrix Heatmap')\n",
    "plt.xlabel('Columns')\n",
    "plt.ylabel('Rows')\n",
    "plt.colorbar()\n",
    "plt.show()"
   ]
  },
  {
   "cell_type": "code",
   "execution_count": 133,
   "id": "e22018e0",
   "metadata": {},
   "outputs": [
    {
     "data": {
      "image/png": "[encoded data removed]",
      "text/plain": [
       "<Figure size 640x480 with 2 Axes>"
      ]
     },
     "metadata": {},
     "output_type": "display_data"
    }
   ],
   "source": [
    "data1=[1,2,3,5,6,3,6,8,9,12,3,4,5,2,8,6]\n",
    "dat=np.array(data1).reshape(4,4)\n",
    "#Create heatmap\n",
    "\n",
    "plt.imshow(dat, cmap='hot', interpolation='nearest')\n",
    "plt.title('4x4 Matrix Heatmap')\n",
    "plt.xlabel('Columns')\n",
    "plt.ylabel('Rows')\n",
    "plt.colorbar()\n",
    "plt.show()"
   ]
  },
  {
   "cell_type": "markdown",
   "id": "bda97636",
   "metadata": {},
   "source": [
    "Create a scatter plot with different sizes and colors for each point"
   ]
  },
  {
   "cell_type": "code",
   "execution_count": 134,
   "id": "35a0b656",
   "metadata": {},
   "outputs": [
    {
     "name": "stderr",
     "output_type": "stream",
     "text": [
      "/tmp/ipykernel_6465/1729224552.py:3: UserWarning: No data for colormapping provided via 'c'. Parameters 'cmap' will be ignored\n",
      "  plt.scatter(x_scat,y_scat, cmap='blue', alpha=0.7)\n"
     ]
    },
    {
     "data": {
      "image/png": "[encoded data removed]",
      "text/plain": [
       "<Figure size 640x480 with 2 Axes>"
      ]
     },
     "metadata": {},
     "output_type": "display_data"
    }
   ],
   "source": [
    "x_scat=[2,3,4,5,6,1,4,7,9,3,8,3,4,6,7]\n",
    "y_scat=[87,12,34,56,14,78,62,18,34,23,54,12,12,23,45]\n",
    "plt.scatter(x_scat,y_scat, cmap='blue', alpha=0.7)\n",
    "\n",
    "# Add title and labels\n",
    "plt.title('Scatter Plot with Varying Point Sizes and Colors')\n",
    "plt.xlabel('X-axis')\n",
    "plt.ylabel('Y-axis')\n",
    "\n",
    "# Display colorbar\n",
    "plt.colorbar(label='Color Scale')\n",
    "\n",
    "# Display plot\n",
    "plt.show()"
   ]
  },
  {
   "cell_type": "code",
   "execution_count": 135,
   "id": "4fb35b98",
   "metadata": {},
   "outputs": [
    {
     "data": {
      "image/png": "[encoded data removed]",
      "text/plain": [
       "<Figure size 640x480 with 2 Axes>"
      ]
     },
     "metadata": {},
     "output_type": "display_data"
    }
   ],
   "source": [
    "# Generate random data\n",
    "np.random.seed(0)\n",
    "x = np.random.rand(20)\n",
    "y = np.random.rand(20)\n",
    "sizes = np.random.rand(20) * 100  # point sizes\n",
    "colors = np.random.rand(20)  # point colors\n",
    "\n",
    "# Create scatter plot\n",
    "plt.scatter(x, y, s=sizes, c=colors, cmap='viridis', alpha=0.7)\n",
    "\n",
    "# Add title and labels\n",
    "plt.title('Scatter Plot with Varying Point Sizes and Colors')\n",
    "plt.xlabel('X-axis')\n",
    "plt.ylabel('Y-axis')\n",
    "\n",
    "# Display colorbar\n",
    "plt.colorbar(label='Color Scale')\n",
    "\n",
    "# Display plot\n",
    "plt.show()"
   ]
  },
  {
   "cell_type": "markdown",
   "id": "06cda995",
   "metadata": {},
   "source": [
    "Plot a bar chart with error bars representing standard deviations of data"
   ]
  },
  {
   "cell_type": "code",
   "execution_count": 136,
   "id": "d22d8770",
   "metadata": {},
   "outputs": [
    {
     "data": {
      "image/png": "[encoded data removed]",
      "text/plain": [
       "<Figure size 640x480 with 1 Axes>"
      ]
     },
     "metadata": {},
     "output_type": "display_data"
    }
   ],
   "source": [
    "categories = ['A', 'B', 'C', 'D', 'E', 'F']\n",
    "means = [10, 15, 7, 12, 20, 16]\n",
    "std_devs = SD(means)\n",
    "\n",
    "# Create bar chart\n",
    "plt.bar(categories, means, yerr=std_devs, capsize=5)\n",
    "plt.title('Bar Chart with Error Bars')\n",
    "plt.xlabel('Category')\n",
    "plt.ylabel('Value')\n",
    "\n",
    "# Display plot\n",
    "plt.show()"
   ]
  },
  {
   "cell_type": "markdown",
   "id": "5ffba092",
   "metadata": {},
   "source": [
    "Animate a plot showing the growth of a population over time."
   ]
  },
  {
   "cell_type": "code",
   "execution_count": 137,
   "id": "964eb27a",
   "metadata": {},
   "outputs": [
    {
     "data": {
      "image/png": "[encoded data removed]",
      "text/plain": [
       "<Figure size 640x480 with 1 Axes>"
      ]
     },
     "metadata": {},
     "output_type": "display_data"
    }
   ],
   "source": [
    "# Time points (years)\n",
    "time = np.arange(1950, 2025)\n",
    "\n",
    "# Population growth data (assuming exponential growth)\n",
    "population = 2.5e6 * np.exp(0.025 * (time - 1950))\n",
    "\n",
    "# Create plot\n",
    "plt.plot(time, population)\n",
    "\n",
    "# Add title and labels\n",
    "plt.title('Population Growth Over Time')\n",
    "plt.xlabel('Year')\n",
    "plt.ylabel('Population')\n",
    "\n",
    "# Display gridlines\n",
    "plt.grid(True)\n",
    "\n",
    "# Display plot\n",
    "plt.show()"
   ]
  },
  {
   "cell_type": "markdown",
   "id": "684dfd1c",
   "metadata": {},
   "source": [
    "Create a polar plot of a function like r = sin(θ)."
   ]
  },
  {
   "cell_type": "code",
   "execution_count": 138,
   "id": "cbf29418",
   "metadata": {},
   "outputs": [
    {
     "data": {
      "image/png": "[encoded data removed]",
      "text/plain": [
       "<Figure size 1200x1200 with 1 Axes>"
      ]
     },
     "metadata": {},
     "output_type": "display_data"
    }
   ],
   "source": [
    "theta = np.linspace(0, 2*np.pi, 100)\n",
    "\n",
    "# Calculate r values (radii) using r = sin(theta)\n",
    "r = np.sin(theta)\n",
    "\n",
    "# Create polar plot\n",
    "plt.figure(figsize=(12,12))\n",
    "ax = plt.subplot(111, polar=True)\n",
    "ax.plot(theta, r)\n",
    "\n",
    "# Add title\n",
    "ax.set_title(\"Polar Plot of r = sin(θ)\", va='bottom')\n",
    "\n",
    "# Display plot\n",
    "plt.show()"
   ]
  },
  {
   "cell_type": "raw",
   "id": "090adf75",
   "metadata": {},
   "source": []
  }
 ],
 "metadata": {
  "kernelspec": {
   "display_name": "Python 3 (ipykernel)",
   "language": "python",
   "name": "python3"
  },
  "language_info": {
   "codemirror_mode": {
    "name": "ipython",
    "version": 3
   },
   "file_extension": ".py",
   "mimetype": "text/x-python",
   "name": "python",
   "nbconvert_exporter": "python",
   "pygments_lexer": "ipython3",
   "version": "3.11.2"
  }
 },
 "nbformat": 4,
 "nbformat_minor": 5
}
